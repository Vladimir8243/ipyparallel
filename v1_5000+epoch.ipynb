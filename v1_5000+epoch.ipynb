{
  "nbformat": 4,
  "nbformat_minor": 0,
  "metadata": {
    "colab": {
      "name": "Untitled2.ipynb",
      "version": "0.3.2",
      "provenance": [],
      "include_colab_link": true
    },
    "kernelspec": {
      "name": "python3",
      "display_name": "Python 3"
    },
    "accelerator": "GPU"
  },
  "cells": [
    {
      "cell_type": "markdown",
      "metadata": {
        "id": "view-in-github",
        "colab_type": "text"
      },
      "source": [
        "<a href=\"https://colab.research.google.com/github/Vladimir8243/ipyparallel/blob/VB_prac/v1_5000%2Bepoch.ipynb\" target=\"_parent\"><img src=\"https://colab.research.google.com/assets/colab-badge.svg\" alt=\"Open In Colab\"/></a>"
      ]
    },
    {
      "cell_type": "code",
      "metadata": {
        "id": "KYSkPKcVWcw3",
        "colab_type": "code",
        "colab": {}
      },
      "source": [
        "!pip install -q gpt-2-simple\n",
        "import gpt_2_simple as gpt2\n",
        "from datetime import datetime\n",
        "from google.colab import files"
      ],
      "execution_count": 0,
      "outputs": []
    },
    {
      "cell_type": "code",
      "metadata": {
        "id": "BI-XwhIkWgxV",
        "colab_type": "code",
        "outputId": "86e87651-584a-4e17-d60c-ea64db391efe",
        "colab": {
          "base_uri": "https://localhost:8080/",
          "height": 331
        }
      },
      "source": [
        "!nvidia-smi"
      ],
      "execution_count": 0,
      "outputs": [
        {
          "output_type": "stream",
          "text": [
            "Sun Sep 15 00:24:44 2019       \n",
            "+-----------------------------------------------------------------------------+\n",
            "| NVIDIA-SMI 430.40       Driver Version: 418.67       CUDA Version: 10.1     |\n",
            "|-------------------------------+----------------------+----------------------+\n",
            "| GPU  Name        Persistence-M| Bus-Id        Disp.A | Volatile Uncorr. ECC |\n",
            "| Fan  Temp  Perf  Pwr:Usage/Cap|         Memory-Usage | GPU-Util  Compute M. |\n",
            "|===============================+======================+======================|\n",
            "|   0  Tesla T4            Off  | 00000000:00:04.0 Off |                    0 |\n",
            "| N/A   54C    P8    10W /  70W |      0MiB / 15079MiB |      0%      Default |\n",
            "+-------------------------------+----------------------+----------------------+\n",
            "                                                                               \n",
            "+-----------------------------------------------------------------------------+\n",
            "| Processes:                                                       GPU Memory |\n",
            "|  GPU       PID   Type   Process name                             Usage      |\n",
            "|=============================================================================|\n",
            "|  No running processes found                                                 |\n",
            "+-----------------------------------------------------------------------------+\n"
          ],
          "name": "stdout"
        }
      ]
    },
    {
      "cell_type": "code",
      "metadata": {
        "id": "whe66Uxuc9Ef",
        "colab_type": "code",
        "outputId": "4b6147b4-5581-43d5-90e8-58349cff5a22",
        "colab": {
          "base_uri": "https://localhost:8080/",
          "height": 35
        }
      },
      "source": [
        "from google.colab import drive\n",
        "drive.mount('/content/drive')"
      ],
      "execution_count": 0,
      "outputs": [
        {
          "output_type": "stream",
          "text": [
            "Drive already mounted at /content/drive; to attempt to forcibly remount, call drive.mount(\"/content/drive\", force_remount=True).\n"
          ],
          "name": "stdout"
        }
      ]
    },
    {
      "cell_type": "code",
      "metadata": {
        "id": "Hw92V757WnO7",
        "colab_type": "code",
        "outputId": "2ab80e7a-b079-4b8a-abbe-02bb397013cf",
        "colab": {
          "base_uri": "https://localhost:8080/",
          "height": 35
        }
      },
      "source": [
        "gpt2.mount_gdrive()"
      ],
      "execution_count": 0,
      "outputs": [
        {
          "output_type": "stream",
          "text": [
            "Drive already mounted at /content/drive; to attempt to forcibly remount, call drive.mount(\"/content/drive\", force_remount=True).\n"
          ],
          "name": "stdout"
        }
      ]
    },
    {
      "cell_type": "code",
      "metadata": {
        "id": "tgp3fnPHdl8Y",
        "colab_type": "code",
        "outputId": "f7a69a5c-e330-4917-c55c-1f416fd1f779",
        "colab": {
          "base_uri": "https://localhost:8080/",
          "height": 35
        }
      },
      "source": [
        "from google.colab import drive\n",
        "drive.mount('/content/drive')"
      ],
      "execution_count": 0,
      "outputs": [
        {
          "output_type": "stream",
          "text": [
            "Drive already mounted at /content/drive; to attempt to forcibly remount, call drive.mount(\"/content/drive\", force_remount=True).\n"
          ],
          "name": "stdout"
        }
      ]
    },
    {
      "cell_type": "code",
      "metadata": {
        "id": "cXyUVAftf0Qu",
        "colab_type": "code",
        "outputId": "015f66a5-e3a5-4978-aa43-c273857ba6c2",
        "colab": {
          "base_uri": "https://localhost:8080/",
          "height": 146
        }
      },
      "source": [
        "gpt2.download_gpt2(model_name=\"124M\")"
      ],
      "execution_count": 0,
      "outputs": [
        {
          "output_type": "stream",
          "text": [
            "Fetching checkpoint: 1.05Mit [00:00, 452Mit/s]                                                      \n",
            "Fetching encoder.json: 1.05Mit [00:00, 134Mit/s]                                                    \n",
            "Fetching hparams.json: 1.05Mit [00:00, 619Mit/s]                                                    \n",
            "Fetching model.ckpt.data-00000-of-00001: 498Mit [00:02, 174Mit/s]                                   \n",
            "Fetching model.ckpt.index: 1.05Mit [00:00, 348Mit/s]                                                \n",
            "Fetching model.ckpt.meta: 1.05Mit [00:00, 137Mit/s]                                                 \n",
            "Fetching vocab.bpe: 1.05Mit [00:00, 225Mit/s]                                                       \n"
          ],
          "name": "stderr"
        }
      ]
    },
    {
      "cell_type": "code",
      "metadata": {
        "id": "IiKhwcdKWnSI",
        "colab_type": "code",
        "colab": {}
      },
      "source": [
        "file_name = \"FINAL_RESULT.txt\""
      ],
      "execution_count": 0,
      "outputs": []
    },
    {
      "cell_type": "code",
      "metadata": {
        "id": "ym7H-UpmWnU7",
        "colab_type": "code",
        "colab": {}
      },
      "source": [
        "gpt2.copy_file_from_gdrive(file_name)"
      ],
      "execution_count": 0,
      "outputs": []
    },
    {
      "cell_type": "code",
      "metadata": {
        "id": "N_F0enLfWnXq",
        "colab_type": "code",
        "outputId": "c5e9d246-cba0-4fc7-9f7b-3f39a569b18a",
        "colab": {
          "base_uri": "https://localhost:8080/",
          "height": 1000
        }
      },
      "source": [
        "sess = gpt2.start_tf_sess()\n",
        "\n",
        "gpt2.finetune(sess,\n",
        "              dataset=file_name,\n",
        "              model_name='124M',\n",
        "              steps=5000,\n",
        "              restore_from='fresh',\n",
        "              run_name='run1',\n",
        "              print_every=50,\n",
        "              sample_every=1000,\n",
        "              save_every=100\n",
        "              )"
      ],
      "execution_count": 0,
      "outputs": [
        {
          "output_type": "stream",
          "text": [
            "WARNING:tensorflow:From /usr/local/lib/python3.6/dist-packages/gpt_2_simple/src/sample.py:17: add_dispatch_support.<locals>.wrapper (from tensorflow.python.ops.array_ops) is deprecated and will be removed in a future version.\n",
            "Instructions for updating:\n",
            "Use tf.where in 2.0, which has the same broadcast rule as np.where\n",
            "Loading checkpoint models/124M/model.ckpt\n",
            "WARNING:tensorflow:From /usr/local/lib/python3.6/dist-packages/tensorflow/python/training/saver.py:1276: checkpoint_exists (from tensorflow.python.training.checkpoint_management) is deprecated and will be removed in a future version.\n",
            "Instructions for updating:\n",
            "Use standard file APIs to check for files with this prefix.\n",
            "INFO:tensorflow:Restoring parameters from models/124M/model.ckpt\n"
          ],
          "name": "stdout"
        },
        {
          "output_type": "stream",
          "text": [
            "100%|██████████| 1/1 [00:00<00:00, 735.71it/s]"
          ],
          "name": "stderr"
        },
        {
          "output_type": "stream",
          "text": [
            "Loading dataset...\n",
            "dataset has 4765 tokens\n",
            "Training...\n"
          ],
          "name": "stdout"
        },
        {
          "output_type": "stream",
          "text": [
            "\n"
          ],
          "name": "stderr"
        },
        {
          "output_type": "stream",
          "text": [
            "[50 | 121.61] loss=0.63 avg=0.63\n",
            "[100 | 238.64] loss=0.37 avg=0.50\n",
            "Saving checkpoint/run1/model-100\n",
            "[150 | 358.50] loss=0.09 avg=0.37\n",
            "[200 | 475.96] loss=0.04 avg=0.28\n",
            "Saving checkpoint/run1/model-200\n",
            "WARNING:tensorflow:From /usr/local/lib/python3.6/dist-packages/tensorflow/python/training/saver.py:960: remove_checkpoint (from tensorflow.python.training.checkpoint_management) is deprecated and will be removed in a future version.\n",
            "Instructions for updating:\n",
            "Use standard file APIs to delete files with this prefix.\n",
            "[250 | 595.38] loss=0.04 avg=0.23\n",
            "[300 | 712.33] loss=0.03 avg=0.20\n",
            "Saving checkpoint/run1/model-300\n",
            "[350 | 831.72] loss=0.02 avg=0.17\n",
            "[400 | 948.94] loss=0.03 avg=0.15\n",
            "Saving checkpoint/run1/model-400\n",
            "[450 | 1067.94] loss=0.04 avg=0.14\n",
            "[500 | 1183.62] loss=0.02 avg=0.13\n",
            "Saving checkpoint/run1/model-500\n",
            "[550 | 1301.37] loss=0.02 avg=0.12\n",
            "[600 | 1417.03] loss=0.02 avg=0.11\n",
            "Saving checkpoint/run1/model-600\n",
            "[650 | 1534.81] loss=0.02 avg=0.10\n",
            "[700 | 1650.51] loss=0.02 avg=0.10\n",
            "Saving checkpoint/run1/model-700\n",
            "[750 | 1768.29] loss=0.02 avg=0.09\n",
            "[800 | 1883.96] loss=0.02 avg=0.08\n",
            "Saving checkpoint/run1/model-800\n",
            "[850 | 2001.85] loss=0.02 avg=0.08\n",
            "[900 | 2117.54] loss=0.02 avg=0.08\n",
            "Saving checkpoint/run1/model-900\n",
            "[950 | 2235.45] loss=0.02 avg=0.07\n",
            "[1000 | 2351.13] loss=0.02 avg=0.07\n",
            "Saving checkpoint/run1/model-1000\n",
            "======== SAMPLE 1 ========\n",
            " 0 0 0\n",
            "0 3 3 5 0 5 2 0 4 0 0 2\n",
            "5 3 3 4 0 5 3 0 0 0 2 3\n",
            "5 3 3 4 0 5 3 0 0 2 0\n",
            "5 3 3 4 0 5 3 0 0 2 0\n",
            "5 3 3 4 0 0 3 0 0 2 3\n",
            "0 0 0 0 0 0 0 0 6 1 0\n",
            "0 0 0 0 0 0 0 6 1 0 0\n",
            "2 3 3 2 0 3 5 0 0 0 4\n",
            "4 3 3 2 0 2 5 0 0 0 0\n",
            "4 3 3 2 0 2 5 0 0 0 0\n",
            "0 3 3 2 0 5 2 0 0 0 4\n",
            "0 3 3 2 0 4 2 5 0 0 0\n",
            "4 3 3 2 0 0 2 5 0 0 0\n",
            "4 3 2 0 0 0 2 5 0 0 0\n",
            "0 0 0 1 0 0 0 0 0 0 6\n",
            "0 0 0 0 0 0 6 1 0 0 0\n",
            "0 0 6 0 0 0 0 1 0 0 0\n",
            "2 3 3 5 0 3 4 0 0 0 3\n",
            "2 3 3 5 0 3 0 0 0 0 4\n",
            "2 3 3 5 0 3 0 0 0 0 4\n",
            "2 3 3 4 0 3 5 0 0 0 0\n",
            "0 3 3 2 0 5 5 0 0 0 4\n",
            "0 0 0 6 0 0 0 0 0 0 1\n",
            "6 0 0 0 0 0 0 1 0 0 0\n",
            "5 3 3 5 0 3 0 2 0 0 3\n",
            "4 3 3 5 0 3 5 2 0 0 0\n",
            "4 3 3 5 0 3 5 2 0 0 3\n",
            "0 3 3 5 0 3 4 2 0 0 3\n",
            "0 3 3 5 0 3 0 2 0 0 4\n",
            "0 0 0 0 0 0 1 0 0 0 6\n",
            "1 0 0 0 0 0 0 0 0 0 6 0\n",
            "4 3 0 5 0 3 0 2 0 0 3\n",
            "4 3 0 5 0 3 2 4 0 0 3\n",
            "0 3 0 0 0 2 4 0 0 0 5\n",
            "0 0 0 0 0 0 6 1 0 0 0\n",
            "4 3 0 5 0 3 0 2 0 0 4\n",
            "4 3 0 5 0 3 0 2 0 0 0\n",
            "0 3 0 0 0 2 4 0 0 0 5\n",
            "0 0 0 0 0 0 1 0 0 0 6\n",
            "6 0 0 0 0 0 0 1 0 0 0\n",
            "0 3 3 2 0 3 4 2 0 0 3\n",
            "0 3 3 2 0 2 0 4 0 0 5\n",
            "0 3 3 2 0 2 4 0 0 0 5\n",
            "2 3 3 2 0 2 0 0 0 0 5\n",
            "2 3 3 2 0 2 0 0 0 0 5\n",
            "1 0 0 0 0 0 0 0 0 0 6\n",
            "1 0 0 0 0 0 0 0 0 0 6\n",
            "0 3 3 2 0 2 0 5 0 0 4\n",
            "0 3 3 2 0 2 5 5 0 0 4\n",
            "2 3 3 2 0 2 5 5 0 0 4\n",
            "5 3 3 0 0 2 4 0 0 0 5\n",
            "0 3 3 0 0 2 4 0 0 0 5\n",
            "0 0 0 0 0 0 6 1 0 0 0\n",
            "0 0 0 0 0 0 1 0 0 0 6\n",
            "5 0 3 0 0 2 2 0 0 0 4\n",
            "5 0 3 0 0 2 2 0 0 0 4\n",
            "5 0 3 0 0 2 2 0 0 0 4\n",
            "5 0 3 0 0 2 2 0 0 0 4\n",
            "5 0 3 0 0 2 2 0 0 0 4\n",
            "0 0 0 0 0 0 6 1 0 0 0\n",
            "0 0 0 6 0 0 0 0 0 0 1\n",
            "5 0 3 0 0 2 2 0 0 0 4\n",
            "5 0 3 0 0 2 2 0 0 0 4\n",
            "4 0 3 0 0 2 2 0 0 0 4\n",
            "4 0 3 0 0 2 2 0 0 0 4\n",
            "0 0 0 0 0 1 0 0 0 0 6\n",
            "0 0 0 0 0 0 1 0 0 0 6\n",
            "0 3 3 0 0 2 5 0 0 0 4\n",
            "0 5 3 0 0 2 4 0 0 0 0\n",
            "5 3 3 0 0 2 4 0 0 0 0\n",
            "5 3 3 0 0 2 0 0 0 0 4\n",
            "5 3 3 0 0 2 0 0 0 0 4\n",
            "1 0 0 0 0 0 0 0 0 0 6\n",
            "1 0 0 0 0 0 0 0 0 0 6\n",
            "0 3 3 0 0 2 5 0 0 0 4\n",
            "0 3 3 0 0 2 5 0 0 0 4\n",
            "3 3 3 0 0 2 4 0 0 0 5\n",
            "0 3 3 0 0 2 4 0 0 0 5\n",
            "3 3 3 0 0 2 0 0 0 0 5\n",
            "2 3 3 0 0 2 4 0 0 0 5\n",
            "6 0 0 0 0 0 0 0 0 0 1\n",
            "0 0 0 0 0 0 1 0 0 0 6\n",
            "0 3 3 0 0 2 4 0 0 0 5\n",
            "0 5 3 0 0 2 0 0 0 0 4\n",
            "5 3 3 0 0 2 4 0 0\n",
            "\n",
            "[1050 | 2480.87] loss=0.02 avg=0.07\n",
            "[1100 | 2596.24] loss=0.02 avg=0.07\n",
            "Saving checkpoint/run1/model-1100\n",
            "[1150 | 2713.83] loss=0.01 avg=0.06\n",
            "[1200 | 2831.13] loss=0.02 avg=0.06\n",
            "Saving checkpoint/run1/model-1200\n",
            "[1250 | 2950.80] loss=0.01 avg=0.06\n",
            "[1300 | 3067.79] loss=0.01 avg=0.06\n",
            "Saving checkpoint/run1/model-1300\n",
            "[1350 | 3187.25] loss=0.01 avg=0.05\n",
            "[1400 | 3304.58] loss=0.01 avg=0.05\n",
            "Saving checkpoint/run1/model-1400\n",
            "[1450 | 3424.23] loss=0.02 avg=0.05\n",
            "[1500 | 3541.27] loss=0.02 avg=0.05\n",
            "Saving checkpoint/run1/model-1500\n",
            "[1550 | 3660.54] loss=0.01 avg=0.05\n",
            "[1600 | 3777.36] loss=0.02 avg=0.05\n",
            "Saving checkpoint/run1/model-1600\n",
            "[1650 | 3897.00] loss=0.02 avg=0.05\n",
            "[1700 | 4014.05] loss=0.02 avg=0.05\n",
            "Saving checkpoint/run1/model-1700\n",
            "[1750 | 4133.47] loss=0.01 avg=0.04\n",
            "[1800 | 4250.43] loss=0.01 avg=0.04\n",
            "Saving checkpoint/run1/model-1800\n",
            "[1850 | 4369.86] loss=0.01 avg=0.04\n",
            "[1900 | 4486.96] loss=0.01 avg=0.04\n",
            "Saving checkpoint/run1/model-1900\n",
            "[1950 | 4606.56] loss=0.01 avg=0.04\n",
            "[2000 | 4723.79] loss=0.01 avg=0.04\n",
            "Saving checkpoint/run1/model-2000\n",
            "======== SAMPLE 1 ========\n",
            "\n",
            "0 0 2 0 0 0 0 4 0 0 0 0\n",
            "2 0 0 0 0 0 0 4 0 0 0 0\n",
            "2 3 3 5 2 0 0 0 4 0 0 5\n",
            "0 3 2 5 2 0 5 3 4 0 0 3\n",
            "5 3 2 3 2 0 5 5 0 0 0 4\n",
            "5 3 0 2 0 0 5 2 3 0 0 4\n",
            "5 3 2 0 4 0 5 0 2 0 0 0\n",
            "0 0 2 0 0 0 0 4 0 0 0 0\n",
            "0 0 5 0 0 0 2 4 0 0 0 0\n",
            "2 0 0 0 0 0 0 4 0 0 0 0\n",
            "0 3 3 2 0 0 5 2 4 0 0 3\n",
            "0 3 3 2 0 0 5 2 4 0 0 3\n",
            "3 3 3 2 0 0 4 2 0 0 0 5\n",
            "0 3 3 2 0 0 0 5 2 0 0 4\n",
            "5 3 3 0 0 0 2 0 2 0 0 4\n",
            "5 3 0 0 0 0 2 4 0 0 0 0\n",
            "0 0 0 0 0 0 0 6 0 0 0 1\n",
            "0 0 0 6 0 0 0 0 0 0 1 0\n",
            "4 3 3 5 0 0 3 0 2 0 0 0\n",
            "4 3 3 5 0 0 5 0 2 0 0 2\n",
            "0 3 3 0 0 0 4 0 2 0 0 5\n",
            "0 3 3 3 0 0 4 0 2 0 0 5\n",
            "2 3 3 3 0 0 0 0 0 0 0 5\n",
            "0 0 0 0 0 0 0 0 6 0 0 1\n",
            "0 0 0 6 0 0 1 0 0 0 0 0\n",
            "2 3 3 0 0 3 4 2 0 0 5 0\n",
            "2 3 3 5 0 3 0 2 0 0 4 5\n",
            "2 3 3 5 0 3 0 2 0 0 4 5\n",
            "2 3 3 5 0 3 2 4 0 0 0 5\n",
            "2 3 3 4 0 3 5 0 0 0 0 5\n",
            "0 0 0 1 0 0 0 0 0 0 6 0\n",
            "0 0 0 0 0 0 0 6 0 0 0 1\n",
            "0 3 3 0 0 3 5 2 0 0 2 4\n",
            "5 3 3 2 0 3 4 5 3 0 2 0\n",
            "5 3 3 2 0 2 0 5 4 0 2 0\n",
            "5 3 3 2 0 2 0 5 4 0 2 3\n",
            "4 5 3 3 0 5 2 0 0 0 2 2\n",
            "1 0 0 0 0 0 0 0 6 0 0 0\n",
            "0 0 0 0 0 0 6 0 0 0 1 0\n",
            "0 0 3 5 0 3 5 2 0 0 4 2\n",
            "2 0 3 4 0 3 5 2 5 0 0 2\n",
            "5 0 3 0 0 3 4 2 5 0 0 2\n",
            "5 0 3 0 0 3 4 2 5 0 2 0\n",
            "5 0 3 0 0 3 0 2 5 0 2 4\n",
            "6 0 0 0 0 0 0 0 0 0 6 1\n",
            "0 0 0 0 0 0 6 0 1 0 0 0\n",
            "5 3 3 0 0 3 2 2 4 0 5 0\n",
            "4 3 3 0 0 3 2 2 0 0 5 5\n",
            "4 3 3 0 0 3 2 2 0 0 5 5\n",
            "0 3 3 0 0 2 0 5 2 0 5 4\n",
            "0 3 3 0 0 2 5 5 2 0 0 4\n",
            "6 0 0 0 0 0 0 0 0 0 1 0\n",
            "0 0 0 0 0 6 0 0 6 0 1 0\n",
            "2 3 3 0 0 2 5 0 0 0 0 4\n",
            "2 3 3 0 0 0 5 0 5 0 0 4\n",
            "5 3 3 0 0 2 4 0 5 0 2 0\n",
            "5 3 3 0 0 2 4 0 5 0 2 0\n",
            "5 3 3 0 0 2 0 0 4 0 2 3\n",
            "0 0 0 0 0 0 1 0 0 0 0 6\n",
            "1 0 0 0 0 0 0 0 0 0 6 0\n",
            "4 3 0 5 0 2 0 0 2 0 3 0\n",
            "0 3 0 0 0 2 2 0 5 0 4 5\n",
            "2 3 0 5 0 2 4 0 0 0 0 5\n",
            "2 3 0 5 0 2 4 0 3 0 0 5\n",
            "2 3 0 4 0 2 0 0 0 0 5 5\n",
            "0 0 0 1 0 0 0 0 0 0 6 0\n",
            "0 0 0 0 0 0 6 0 1 0 0 0\n",
            "2 3 0 0 0 2 5 0 4 0 5 0\n",
            "5 3 0 2 0 2 4 0 0 0 5 0\n",
            "5 3 0 0 0 2 4 0 2 0 5 0\n",
            "4 3 0 2 0 2 0 0 0 0 5 0\n",
            "4 3 0 2 0 2 0 0 0 0 5 0\n",
            "0 0 0 1 0 0 6 0 0 0 0 0\n",
            "0 0 0 1 0 0 6 0 0 0 0 0\n",
            "5 3 0 0 0 2 2 0 0 0 4 0\n",
            "5 3 0 0 0 2 2 0 0 0 4 0\n",
            "5 3 0 2 0 2 4 0 0 0 0 0\n",
            "4 3 0 2 0 2 0 0 0 0 5 0\n",
            "0 3 0 4 0 2 0 0 0\n",
            "\n",
            "[2050 | 4854.19] loss=0.01 avg=0.04\n",
            "[2100 | 4970.96] loss=0.04 avg=0.04\n",
            "Saving checkpoint/run1/model-2100\n",
            "[2150 | 5090.31] loss=0.02 avg=0.04\n",
            "[2200 | 5207.04] loss=0.01 avg=0.04\n",
            "Saving checkpoint/run1/model-2200\n",
            "[2250 | 5326.29] loss=0.01 avg=0.04\n",
            "[2300 | 5443.02] loss=0.01 avg=0.04\n",
            "Saving checkpoint/run1/model-2300\n",
            "[2350 | 5562.41] loss=0.01 avg=0.04\n",
            "[2400 | 5679.86] loss=0.01 avg=0.03\n",
            "Saving checkpoint/run1/model-2400\n",
            "[2450 | 5799.78] loss=0.01 avg=0.03\n",
            "[2500 | 5917.14] loss=0.01 avg=0.03\n",
            "Saving checkpoint/run1/model-2500\n",
            "[2550 | 6036.94] loss=0.01 avg=0.03\n",
            "[2600 | 6154.01] loss=0.01 avg=0.03\n",
            "Saving checkpoint/run1/model-2600\n",
            "[2650 | 6273.58] loss=0.01 avg=0.03\n",
            "[2700 | 6390.72] loss=0.01 avg=0.03\n",
            "Saving checkpoint/run1/model-2700\n",
            "[2750 | 6510.43] loss=0.01 avg=0.03\n",
            "[2800 | 6627.85] loss=0.01 avg=0.03\n",
            "Saving checkpoint/run1/model-2800\n",
            "[2850 | 6747.54] loss=0.01 avg=0.03\n",
            "[2900 | 6864.91] loss=0.01 avg=0.03\n",
            "Saving checkpoint/run1/model-2900\n",
            "[2950 | 6984.50] loss=0.01 avg=0.03\n",
            "[3000 | 7101.64] loss=0.01 avg=0.03\n",
            "Saving checkpoint/run1/model-3000\n",
            "======== SAMPLE 1 ========\n",
            " 0 0 0 0 0 0 6 0\n",
            "5 3 0 0 0 0 2 4 2 0 5 0\n",
            "3 3 0 0 0 0 2 4 2 0 5 5\n",
            "0 3 0 5 0 0 2 0 2 0 4 5\n",
            "5 3 0 0 0 0 2 0 2 0 4 5\n",
            "5 3 0 0 0 0 5 2 4 0 0 0\n",
            "0 0 0 0 0 0 0 6 0 0 0 1\n",
            "0 0 0 6 0 0 0 0 0 0 1 0\n",
            "4 3 3 5 0 0 3 0 2 0 0 0\n",
            "4 3 3 5 0 0 5 0 2 0 0 2\n",
            "0 3 3 0 0 0 4 0 2 0 5 2\n",
            "0 3 3 3 0 0 4 0 2 0 5 2\n",
            "2 3 3 3 0 0 0 0 0 0 5 4\n",
            "0 0 0 0 0 0 0 0 6 0 0 1\n",
            "0 0 0 6 0 0 1 0 0 0 0 0\n",
            "2 3 3 0 0 3 4 2 0 0 5 0\n",
            "2 3 3 5 0 3 0 2 0 0 4 5\n",
            "2 3 3 5 0 3 0 2 0 0 4 5\n",
            "2 3 3 5 0 3 2 4 0 0 0 5\n",
            "2 3 3 4 0 3 5 0 0 0 0 5\n",
            "0 0 0 1 0 0 0 0 0 0 6 0\n",
            "0 0 0 0 0 0 0 6 0 0 0 1\n",
            "0 3 3 0 0 3 5 2 0 0 2 4\n",
            "5 3 3 2 0 3 4 5 3 0 2 0\n",
            "5 3 3 2 0 2 0 5 4 0 2 0\n",
            "5 3 3 2 0 2 0 5 4 0 2 3\n",
            "4 5 3 3 0 5 2 0 0 0 2 2\n",
            "1 0 0 0 0 0 0 0 6 0 0 0\n",
            "0 0 0 0 0 0 6 0 0 0 1 0\n",
            "0 0 3 5 0 3 5 2 0 0 4 2\n",
            "2 0 3 4 0 3 5 2 5 0 0 2\n",
            "5 0 3 0 0 3 4 2 5 0 0 2\n",
            "5 0 3 0 0 3 4 2 5 0 2 0\n",
            "5 0 3 0 0 3 0 2 5 0 2 4\n",
            "6 0 0 0 0 0 0 0 0 0 6 1\n",
            "0 0 0 0 0 0 6 0 1 0 0 0\n",
            "5 3 3 0 0 3 2 2 4 0 5 0\n",
            "4 3 3 0 0 3 2 2 0 0 5 5\n",
            "4 3 3 0 0 3 2 2 0 0 5 5\n",
            "0 3 3 0 0 2 0 5 2 0 5 4\n",
            "0 3 3 0 0 2 5 5 2 0 0 4\n",
            "6 0 0 0 0 0 0 0 0 0 1 0\n",
            "0 0 0 0 0 6 0 0 6 0 1 0\n",
            "2 3 3 0 0 2 5 0 0 0 0 4\n",
            "2 3 3 0 0 0 5 0 5 0 0 4\n",
            "5 3 3 0 0 2 4 0 5 0 2 0\n",
            "5 3 3 0 0 2 4 0 5 0 2 0\n",
            "5 3 3 0 0 2 0 0 4 0 2 3\n",
            "0 0 0 0 0 0 1 0 0 0 0 6\n",
            "1 0 0 0 0 0 0 0 0 0 6 0\n",
            "4 3 0 5 0 2 0 0 2 0 3 0\n",
            "0 3 0 0 0 2 2 0 5 0 4 5\n",
            "2 3 0 5 0 2 4 0 0 0 0 5\n",
            "2 3 0 5 0 2 4 0 3 0 0 5\n",
            "2 3 0 4 0 2 0 0 0 0 5 5\n",
            "0 0 0 1 0 0 0 0 0 0 6 0\n",
            "0 0 0 0 0 0 6 0 1 0 0 0\n",
            "2 3 0 0 0 2 5 0 4 0 5 0\n",
            "5 3 0 2 0 2 4 0 0 0 5 0\n",
            "5 3 0 0 0 2 4 0 2 0 5 0\n",
            "4 3 0 2 0 2 0 0 0 0 5 0\n",
            "4 3 0 2 0 2 0 0 0 0 5 0\n",
            "0 0 0 1 0 0 6 0 0 0 0 0\n",
            "0 0 0 1 0 0 6 0 0 0 0 0\n",
            "5 3 0 0 0 2 2 0 0 0 4 0\n",
            "5 3 0 0 0 2 2 0 0 0 4 0\n",
            "5 3 0 2 0 2 4 0 0 0 0 0\n",
            "4 3 0 2 0 2 0 0 0 0 5 0\n",
            "0 3 0 4 0 2 0 0 0 0 5 0\n",
            "0 0 0 0 0 6 0 0 0 0 1 0\n",
            "6 0 0 0 0 0 1 0 0 0 0 0\n",
            "0 3 3 2 0 5 4 0 5 0 0 2\n",
            "0 3 3 2 0 5 0 0 4 0 5 2\n",
            "0 3 3 2 0 5 0 0 4 0 5 2\n",
            "0 3 3 2 0 5 2 0 0 0 5 4\n",
            "0 5 3 0 0 0 2 0 0 0 5 4\n",
            "0 0 0 0 0 1 6 0 0 0 0 0\n",
            "0 0 0 0 0 0 6 0 1 0 0 0\n",
            "0 3 3 2 0 0 5 0 4 0 5 2\n",
            "5\n",
            "\n",
            "[3050 | 7231.85] loss=0.01 avg=0.03\n",
            "[3100 | 7348.89] loss=0.01 avg=0.03\n",
            "Saving checkpoint/run1/model-3100\n",
            "[3150 | 7468.35] loss=0.01 avg=0.03\n",
            "[3200 | 7585.48] loss=0.01 avg=0.03\n",
            "Saving checkpoint/run1/model-3200\n",
            "[3250 | 7705.14] loss=0.01 avg=0.03\n",
            "[3300 | 7822.37] loss=0.01 avg=0.03\n",
            "Saving checkpoint/run1/model-3300\n",
            "[3350 | 7942.11] loss=0.04 avg=0.03\n",
            "[3400 | 8059.47] loss=0.01 avg=0.03\n",
            "Saving checkpoint/run1/model-3400\n",
            "[3450 | 8179.01] loss=0.01 avg=0.03\n",
            "[3500 | 8296.17] loss=0.01 avg=0.03\n",
            "Saving checkpoint/run1/model-3500\n",
            "[3550 | 8415.94] loss=0.01 avg=0.03\n",
            "[3600 | 8533.42] loss=0.01 avg=0.03\n",
            "Saving checkpoint/run1/model-3600\n",
            "[3650 | 8653.29] loss=0.01 avg=0.03\n",
            "[3700 | 8770.39] loss=0.01 avg=0.02\n",
            "Saving checkpoint/run1/model-3700\n",
            "[3750 | 8889.00] loss=0.01 avg=0.02\n",
            "[3800 | 9006.28] loss=0.01 avg=0.02\n",
            "Saving checkpoint/run1/model-3800\n",
            "[3850 | 9125.92] loss=0.01 avg=0.02\n",
            "[3900 | 9243.10] loss=0.01 avg=0.02\n",
            "Saving checkpoint/run1/model-3900\n",
            "[3950 | 9361.82] loss=0.01 avg=0.02\n",
            "[4000 | 9478.28] loss=0.01 avg=0.02\n",
            "Saving checkpoint/run1/model-4000\n",
            "======== SAMPLE 1 ========\n",
            " 0 0 5 5\n",
            "0 0 0 6 3 0 1 0 0 0 0 0\n",
            "6 0 0 1 0 0 0 0 0 0 0 0\n",
            "2 3 3 4 0 0 0 5 0 0 5 2\n",
            "2 3 3 0 0 0 0 5 0 0 5 4\n",
            "2 3 3 0 0 0 0 5 0 0 5 4\n",
            "2 3 3 2 0 0 0 5 4 0 5 0\n",
            "0 3 3 2 0 0 0 5 4 0 5 2\n",
            "1 0 0 6 0 0 0 0 0 0 0 0\n",
            "1 0 0 6 0 0 0 0 0 0 0 0\n",
            "0 3 3 2 0 0 0 4 2 0 5 5\n",
            "2 3 3 0 0 0 0 4 2 0 5 5\n",
            "2 3 3 4 0 0 0 0 2 0 5 5\n",
            "2 3 3 4 0 0 0 5 2 0 5 0\n",
            "0 3 3 0 0 0 0 5 2 0 5 4\n",
            "0 0 0 6 0 0 0 0 0 0 0 1\n",
            "6 0 0 0 0 0 0 0 1 0 0 0\n",
            "5 3 3 5 0 0 0 2 4 0 2 0\n",
            "4 3 3 5 0 0 5 2 0 0 0 2\n",
            "4 3 3 5 0 0 5 0 0 0 2 2\n",
            "0 3 3 0 0 0 4 5 5 0 2 2\n",
            "0 3 3 0 0 0 4 5 5 0 2 2\n",
            "0 0 0 0 0 0 0 6 0 0 0 1\n",
            "0 0 0 1 0 0 0 0 0 0 6 0\n",
            "5 3 0 0 0 0 2 4 2 0 5 0\n",
            "3 3 0 0 0 0 2 4 2 0 5 5\n",
            "0 3 0 5 0 0 2 0 2 0 4 5\n",
            "5 3 0 0 0 0 2 0 2 0 4 5\n",
            "5 3 0 0 0 0 5 2 4 0 0 0\n",
            "0 0 0 0 0 0 0 6 0 0 0 1\n",
            "0 0 0 6 0 0 0 0 0 0 1 0\n",
            "4 3 3 5 0 0 3 0 2 0 0 0\n",
            "4 3 3 5 0 0 5 0 2 0 0 2\n",
            "0 3 3 0 0 0 4 0 2 0 5 2\n",
            "0 3 3 3 0 0 4 0 2 0 5 2\n",
            "2 3 3 3 0 0 0 0 0 0 5 4\n",
            "0 0 0 0 0 0 0 0 6 0 0 1\n",
            "0 0 0 6 0 0 1 0 0 0 0 0\n",
            "2 3 3 0 0 3 4 2 0 0 5 0\n",
            "2 3 3 5 0 3 0 2 0 0 4 5\n",
            "2 3 3 5 0 3 0 2 0 0 4 5\n",
            "2 3 3 5 0 3 2 4 0 0 0 5\n",
            "2 3 3 4 0 3 5 0 0 0 0 5\n",
            "0 0 0 1 0 0 0 0 0 0 6 0\n",
            "0 0 0 0 0 0 0 6 0 0 0 1\n",
            "0 3 3 0 0 3 5 2 0 0 2 4\n",
            "5 3 3 2 0 3 4 5 3 0 2 0\n",
            "5 3 3 2 0 2 0 5 4 0 2 0\n",
            "5 3 3 2 0 2 0 5 4 0 2 3\n",
            "4 5 3 3 0 5 2 0 0 0 2 2\n",
            "1 0 0 0 0 0 0 0 6 0 0 0\n",
            "0 0 0 0 0 0 6 0 0 0 1 0\n",
            "0 0 3 5 0 3 5 2 0 0 4 2\n",
            "2 0 3 4 0 3 5 2 5 0 0 2\n",
            "5 0 3 0 0 3 4 2 5 0 0 2\n",
            "5 0 3 0 0 3 4 2 5 0 2 0\n",
            "5 0 3 0 0 3 0 2 5 0 2 4\n",
            "6 0 0 0 0 0 0 0 0 0 6 1\n",
            "0 0 0 0 0 0 6 0 1 0 0 0\n",
            "5 3 3 0 0 3 2 2 4 0 5 0\n",
            "4 3 3 0 0 3 2 2 0 0 5 5\n",
            "4 3 3 0 0 3 2 2 0 0 5 5\n",
            "0 3 3 0 0 2 0 5 2 0 5 4\n",
            "0 3 3 0 0 2 5 5 2 0 0 4\n",
            "6 0 0 0 0 0 0 0 0 0 1 0\n",
            "0 0 0 0 0 6 0 0 6 0 1 0\n",
            "2 3 3 0 0 2 5 0 0 0 0 4\n",
            "2 3 3 0 0 0 5 0 5 0 0 4\n",
            "5 3 3 0 0 2 4 0 5 0 2 0\n",
            "5 3 3 0 0 2 4 0 5 0 2 0\n",
            "5 3 3 0 0 2 0 0 4 0 2 3\n",
            "0 0 0 0 0 0 1 0 0 0 0 6\n",
            "1 0 0 0 0 0 0 0 0 0 6 0\n",
            "4 3 0 5 0 2 0 0 2 0 3 0\n",
            "0 3 0 0 0 2 2 0 5 0 4 5\n",
            "2 3 0 5 0 2 4 0 0 0 0 5\n",
            "2 3 0 5 0 2 4 0 3 0 0 5\n",
            "2 3 0 4 0 2 0 0 0 0 5 5\n",
            "0 0 0 1 0 0 0 0 0 0 6 0\n",
            "0 0 0 0 0\n",
            "\n",
            "[4050 | 9608.27] loss=0.01 avg=0.02\n",
            "[4100 | 9725.43] loss=0.01 avg=0.02\n",
            "Saving checkpoint/run1/model-4100\n",
            "[4150 | 9845.24] loss=0.01 avg=0.02\n",
            "[4200 | 9962.68] loss=0.01 avg=0.02\n",
            "Saving checkpoint/run1/model-4200\n",
            "[4250 | 10081.62] loss=0.01 avg=0.02\n",
            "[4300 | 10198.28] loss=0.01 avg=0.02\n",
            "Saving checkpoint/run1/model-4300\n",
            "[4350 | 10316.97] loss=0.01 avg=0.02\n",
            "[4400 | 10433.51] loss=0.01 avg=0.02\n",
            "Saving checkpoint/run1/model-4400\n",
            "[4450 | 10552.04] loss=0.02 avg=0.02\n",
            "[4500 | 10668.63] loss=0.01 avg=0.02\n",
            "Saving checkpoint/run1/model-4500\n",
            "[4550 | 10787.84] loss=0.01 avg=0.02\n",
            "[4600 | 10904.78] loss=0.01 avg=0.02\n",
            "Saving checkpoint/run1/model-4600\n",
            "[4650 | 11024.35] loss=0.01 avg=0.02\n",
            "[4700 | 11141.28] loss=0.01 avg=0.02\n",
            "Saving checkpoint/run1/model-4700\n",
            "[4750 | 11260.91] loss=0.01 avg=0.02\n",
            "[4800 | 11378.06] loss=0.01 avg=0.02\n",
            "Saving checkpoint/run1/model-4800\n",
            "[4850 | 11497.92] loss=0.01 avg=0.02\n",
            "[4900 | 11615.23] loss=0.01 avg=0.02\n",
            "Saving checkpoint/run1/model-4900\n",
            "[4950 | 11735.01] loss=0.01 avg=0.02\n",
            "[5000 | 11852.14] loss=0.01 avg=0.02\n",
            "Saving checkpoint/run1/model-5000\n"
          ],
          "name": "stdout"
        }
      ]
    },
    {
      "cell_type": "code",
      "metadata": {
        "id": "pkQoJ9CBWnab",
        "colab_type": "code",
        "colab": {}
      },
      "source": [
        "gpt2.copy_checkpoint_to_gdrive(run_name='run1')"
      ],
      "execution_count": 0,
      "outputs": []
    },
    {
      "cell_type": "code",
      "metadata": {
        "id": "sfDxid8rQs7h",
        "colab_type": "code",
        "colab": {}
      },
      "source": [
        "!pip install -q gpt-2-simple\n",
        "import gpt_2_simple as gpt2\n",
        "from datetime import datetime\n",
        "from google.colab import files"
      ],
      "execution_count": 0,
      "outputs": []
    },
    {
      "cell_type": "code",
      "metadata": {
        "id": "6n1KigNvB0R_",
        "colab_type": "code",
        "outputId": "54d909fe-8060-4c9f-e100-5160babe99e0",
        "colab": {
          "base_uri": "https://localhost:8080/",
          "height": 331
        }
      },
      "source": [
        "!nvidia-smi"
      ],
      "execution_count": 2,
      "outputs": [
        {
          "output_type": "stream",
          "text": [
            "Sun Sep 15 03:51:43 2019       \n",
            "+-----------------------------------------------------------------------------+\n",
            "| NVIDIA-SMI 430.40       Driver Version: 418.67       CUDA Version: 10.1     |\n",
            "|-------------------------------+----------------------+----------------------+\n",
            "| GPU  Name        Persistence-M| Bus-Id        Disp.A | Volatile Uncorr. ECC |\n",
            "| Fan  Temp  Perf  Pwr:Usage/Cap|         Memory-Usage | GPU-Util  Compute M. |\n",
            "|===============================+======================+======================|\n",
            "|   0  Tesla T4            Off  | 00000000:00:04.0 Off |                    0 |\n",
            "| N/A   69C    P8    11W /  70W |      0MiB / 15079MiB |      0%      Default |\n",
            "+-------------------------------+----------------------+----------------------+\n",
            "                                                                               \n",
            "+-----------------------------------------------------------------------------+\n",
            "| Processes:                                                       GPU Memory |\n",
            "|  GPU       PID   Type   Process name                             Usage      |\n",
            "|=============================================================================|\n",
            "|  No running processes found                                                 |\n",
            "+-----------------------------------------------------------------------------+\n"
          ],
          "name": "stdout"
        }
      ]
    },
    {
      "cell_type": "code",
      "metadata": {
        "id": "ctvqz7cZB5KY",
        "colab_type": "code",
        "outputId": "a728c45b-0322-4975-b1e2-38739d3eb07b",
        "colab": {
          "base_uri": "https://localhost:8080/",
          "height": 35
        }
      },
      "source": [
        "from google.colab import drive\n",
        "drive.mount('/content/drive')"
      ],
      "execution_count": 3,
      "outputs": [
        {
          "output_type": "stream",
          "text": [
            "Drive already mounted at /content/drive; to attempt to forcibly remount, call drive.mount(\"/content/drive\", force_remount=True).\n"
          ],
          "name": "stdout"
        }
      ]
    },
    {
      "cell_type": "code",
      "metadata": {
        "id": "Ews6QFEKWnc5",
        "colab_type": "code",
        "colab": {}
      },
      "source": [
        "gpt2.copy_checkpoint_from_gdrive(run_name='run1')"
      ],
      "execution_count": 0,
      "outputs": []
    },
    {
      "cell_type": "code",
      "metadata": {
        "id": "ovUkMOlAdNCG",
        "colab_type": "code",
        "outputId": "fac4b375-8fad-4cf9-f79a-60a68f4c7c0c",
        "colab": {
          "base_uri": "https://localhost:8080/",
          "height": 129
        }
      },
      "source": [
        "sess = gpt2.start_tf_sess()\n",
        "gpt2.load_gpt2(sess, run_name='run1')"
      ],
      "execution_count": 5,
      "outputs": [
        {
          "output_type": "stream",
          "text": [
            "Loading checkpoint checkpoint/run1/model-5000\n",
            "WARNING:tensorflow:From /usr/local/lib/python3.6/dist-packages/tensorflow/python/training/saver.py:1276: checkpoint_exists (from tensorflow.python.training.checkpoint_management) is deprecated and will be removed in a future version.\n",
            "Instructions for updating:\n",
            "Use standard file APIs to check for files with this prefix.\n",
            "INFO:tensorflow:Restoring parameters from checkpoint/run1/model-5000\n"
          ],
          "name": "stdout"
        }
      ]
    },
    {
      "cell_type": "code",
      "metadata": {
        "id": "QnuHbUJ9dRQ2",
        "colab_type": "code",
        "outputId": "5cba1359-30f3-4c3c-93b2-f15b1ffb9b38",
        "colab": {
          "base_uri": "https://localhost:8080/",
          "height": 1000
        }
      },
      "source": [
        "gpt2.generate(sess, run_name='run1')"
      ],
      "execution_count": 6,
      "outputs": [
        {
          "output_type": "stream",
          "text": [
            "0 0 0 1 6 0 0 0 0 0 0 0\n",
            "0 0 0 0 6 0 0 0 0 0 0 1\n",
            "5 3 5 0 3 0 2 0 2 3 0 4\n",
            "5 3 5 4 0 0 2 0 2 3 0 0\n",
            "5 3 5 4 3 0 2 2 0 0 3 0\n",
            "5 3 5 4 3 0 2 2 3 0 3 3\n",
            "5 3 5 0 3 0 2 0 4 0 3 0\n",
            "0 0 0 0 0 0 0 6 1 0 0 0\n",
            "0 0 0 0 0 0 1 0 0 0 0 6\n",
            "0 3 2 0 3 0 4 0 0 0 3 5\n",
            "0 3 5 0 3 0 0 5 2 0 3 4\n",
            "0 3 5 0 3 0 0 5 2 0 3 4\n",
            "0 3 4 0 3 0 5 5 2 0 3 0\n",
            "0 3 4 0 3 0 5 5 2 0 3 0\n",
            "0 0 0 6 0 0 0 0 0 0 0 1\n",
            "0 0 0 0 0 0 0 0 6 0 0 1\n",
            "0 3 3 5 3 0 4 2 0 0 5 0\n",
            "0 3 3 0 3 0 4 2 5 0 5 0\n",
            "0 3 3 5 3 0 0 2 4 0 5 0\n",
            "0 3 3 5 3 0 0 0 4 0 5 2\n",
            "0 3 3 0 3 0 2 4 0 0 5 5\n",
            "0 0 0 0 0 0 6 1 0 0 0 0\n",
            "0 0 0 0 0 0 0 0 6 0 1 0\n",
            "2 3 3 2 3 0 5 5 0 0 0 4\n",
            "4 3 3 2 3 0 5 5 0 0 0 0\n",
            "4 3 3 0 3 0 5 5 0 0 2 0\n",
            "0 0 0 1 0 0 0 0 0 0 0 6\n",
            "0 0 0 1 0 0 0 0 0 0 0 6\n",
            "0 0 0 0 0 0 0 6 0 0 0 1\n",
            "0 0 0 6 0 0 0 0 0 0 0 1\n",
            "5 3 3 0 3 0 2 5 0 0 4 0\n",
            "0 3 3 5 3 0 2 5 0 0 0 4\n",
            "4 3 3 5 3 0 2 5 0 0 0 0\n",
            "4 3 3 5 3 0 0 0 0 0 2 5\n",
            "0 3 3 0 3 0 4 2 0 0 5 5\n",
            "0 0 0 6 3 0 1 0 0 0 0 0\n",
            "6 0 0 1 0 0 0 0 0 0 0 0\n",
            "2 3 3 4 0 0 0 5 0 0 5 2\n",
            "2 3 3 0 0 0 0 5 0 0 5 4\n",
            "2 3 3 0 0 0 0 5 0 0 5 4\n",
            "2 3 3 2 0 0 0 5 4 0 5 0\n",
            "0 3 3 2 0 0 0 5 4 0 5 2\n",
            "1 0 0 6 0 0 0 0 0 0 0 0\n",
            "1 0 0 6 0 0 0 0 0 0 0 0\n",
            "0 3 3 2 0 0 0 4 2 0 5 5\n",
            "2 3 3 0 0 0 0 4 2 0 5 5\n",
            "2 3 3 4 0 0 0 0 2 0 5 5\n",
            "2 3 3 4 0 0 0 5 2 0 5 0\n",
            "0 3 3 0 0 0 0 5 2 0 5 4\n",
            "0 0 0 6 0 0 0 0 0 0 0 1\n",
            "6 0 0 0 0 0 0 0 1 0 0 0\n",
            "5 3 3 5 0 0 0 2 4 0 2 0\n",
            "4 3 3 5 0 0 5 2 0 0 0 2\n",
            "4 3 3 5 0 0 5 0 0 0 2 2\n",
            "0 3 3 0 0 0 4 5 5 0 2 2\n",
            "0 3 3 0 0 0 4 5 5 0 2 2\n",
            "0 0 0 0 0 0 0 6 0 0 0 1\n",
            "0 0 0 1 0 0 0 0 0 0 6 0\n",
            "5 3 0 0 0 0 2 4 2 0 5 0\n",
            "3 3 0 0 0 0 2 4 2 0 5 5\n",
            "0 3 0 5 0 0 2 0 2 0 4 5\n",
            "5 3 0 0 0 0 2 0 2 0 4 5\n",
            "5 3 0 0 0 0 5 2 4 0 0 0\n",
            "0 0 0 0 0 0 0 6 0 0 0 1\n",
            "0 0 0 6 0 0 0 0 0 0 1 0\n",
            "4 3 3 5 0 0 3 0 2 0 0 0\n",
            "4 3 3 5 0 0 5 0 2 0 0 2\n",
            "0 3 3 0 0 0 4 0 2 0 5 2\n",
            "0 3 3 3 0 0 4 0 2 0 5 2\n",
            "2 3 3 3 0 0 0 0 0 0 5 4\n",
            "0 0 0 0 0 0 0 0 6 0 0 1\n",
            "0 0 0 6 0 0 1 0 0 0 0 0\n",
            "2 3 3 0 0 3 4 2 0 0 5 0\n",
            "2 3 3 5 0 3 0 2 0 0 4 5\n",
            "2 3 3 5 0 3 0 2 0 0 4 5\n",
            "2 3 3 5 0 3 2 4 0 0 0 5\n",
            "2 3 3 4 0 3 5 0 0 0 0 5\n",
            "0 0 0 1 0 0 0 0 0 0 6 0\n",
            "0 0 0 0 0 0 0 6 0\n"
          ],
          "name": "stdout"
        }
      ]
    },
    {
      "cell_type": "code",
      "metadata": {
        "id": "ONRD5j1TWnfo",
        "colab_type": "code",
        "outputId": "b0b93120-70ee-42ca-ff6d-36e20edfcb27",
        "colab": {
          "base_uri": "https://localhost:8080/",
          "height": 1000
        }
      },
      "source": [
        "#to clarify\n",
        "gpt2.generate(sess,\n",
        "              length=366,\n",
        "              temperature=0.5,\n",
        "              #prefix='3',\n",
        "              nsamples=7,\n",
        "              batch_size=7,\n",
        "              )"
      ],
      "execution_count": 19,
      "outputs": [
        {
          "output_type": "stream",
          "text": [
            "0 0 0 0 0 0 0 6 0 0 0 1\n",
            "5 3 4 0 2 0 0 5 2 0 0 0\n",
            "5 3 4 0 2 0 3 2 5 0 0 3\n",
            "5 3 0 0 2 0 3 4 5 0 0 2\n",
            "5 3 3 0 2 0 4 0 5 0 0 2\n",
            "5 3 2 0 0 0 4 0 5 0 0 2\n",
            "0 0 0 0 0 0 0 6 1 0 0 0\n",
            "0 0 1 0 6 0 0 0 0 0 0 0\n",
            "0 3 0 4 0 0 5 5 2 0 0 2\n",
            "0 3 5 4 0 0 5 2 0 0 0 2\n",
            "0 3 2 0 0 0 5 4 5 0 0 2\n",
            "0 3 5 0 0 0 5 4 2 0 0 2\n",
            "0 3 4 5 0 0 5 0 2 0 0 2\n",
            "0 0 0 1 0 0 6 0 0 0 0 0\n",
            "0 0 6 1 0 0 0 6 0 0 0 6\n",
            "2 3 2 0 5 0 0 5 4 0 0 3\n",
            "4 3 3 3 5 0 2 0 0 0 0 5\n",
            "4 3 3 3 5 0 2 0 2 0 0 5\n",
            "0 3 2 5 4 0 3 0 2 0 0 5\n",
            "0 3 4 5 0 0 2 0 2 0 0 5\n",
            "0 0 0 0 0 0 0 6 1 0 0 0\n",
            "0 0 0 0 0 0 0 6 1 0 0 0\n",
            "4 3 3 2 5 0 2 0 0 0 0 5\n",
            "4 3 3 2 5 0 0 2 0 0 0 5\n",
            "0 3 4 2 5 0 2 5 3 0 0 0\n",
            "0 3 4 2 3 0 2 5 5 0 0 0\n",
            "2 3 0 0 4 0 5 0 5 0 0 2\n",
            "0 0 0 0 0 0 1 0 0 0 0 6\n",
            "6 0\n",
            "====================\n",
            "0 0 0 1 0 0 0 0 0 0 0 6 0\n",
            "5 3 0 0 0 0 2 4 2 0 5 0\n",
            "3 3 0 0 0 0 2 4 2 0 5 5\n",
            "0 3 0 5 0 0 2 0 2 0 4 5\n",
            "5 3 0 0 0 0 2 0 2 0 4 5\n",
            "5 3 0 0 0 0 5 2 4 0 0 0\n",
            "0 0 0 0 0 0 0 6 0 0 0 1\n",
            "0 0 0 6 0 0 0 0 0 0 1 0\n",
            "4 3 3 5 0 0 3 0 2 0 0 0\n",
            "4 3 3 5 0 0 5 0 2 0 0 2\n",
            "0 3 3 0 0 0 4 0 2 0 5 2\n",
            "0 3 3 3 0 0 4 0 2 0 5 2\n",
            "2 3 3 3 0 0 0 0 0 0 5 4\n",
            "0 0 0 0 0 0 0 0 6 0 0 1\n",
            "0 0 0 6 0 0 1 0 0 0 0 0\n",
            "2 3 3 0 0 3 4 2 0 0 5 0\n",
            "2 3 3 5 0 3 0 2 0 0 4 5\n",
            "2 3 3 5 0 3 0 2 0 0 4 5\n",
            "2 3 3 5 0 3 2 4 0 0 0 5\n",
            "2 3 3 4 0 3 5 0 0 0 0 5\n",
            "0 0 0 1 0 0 0 0 0 0 6 0\n",
            "0 0 0 0 0 0 0 6 0 0 0 1\n",
            "0 3 3 0 0 3 5 2 0 0 2 4\n",
            "5 3 3 2 0 3 4 5 3 0 2 0\n",
            "5 3 3 2 0 2 0 5 4 0 2 0\n",
            "5 3 3 2 0 2 0 5 4 0 2 3\n",
            "4 5 3 3 0 5 2 0 0 0 2 2\n",
            "1 0 0 0 0 0 0 0 6 0 0 0\n",
            "0\n",
            "====================\n",
            "0 0 0 0 0 0 0 6 0 0 0 1\n",
            "0 0 0 6 0 0 0 0 0 0 1 0\n",
            "4 3 3 5 0 0 3 0 2 0 0 0\n",
            "4 3 3 5 0 0 5 0 2 0 0 2\n",
            "0 3 3 0 0 0 4 0 2 0 5 2\n",
            "0 3 3 3 0 0 4 0 2 0 5 2\n",
            "2 3 3 3 0 0 0 0 0 0 5 4\n",
            "0 0 0 0 0 0 0 0 6 0 0 1\n",
            "0 0 0 6 0 0 1 0 0 0 0 0\n",
            "2 3 3 0 0 3 4 2 0 0 5 0\n",
            "2 3 3 5 0 3 0 2 0 0 4 5\n",
            "2 3 3 5 0 3 0 2 0 0 4 5\n",
            "2 3 3 5 0 3 2 4 0 0 0 5\n",
            "2 3 3 4 0 3 5 0 0 0 0 5\n",
            "0 0 0 1 0 0 0 0 0 0 6 0\n",
            "0 0 0 0 0 0 0 6 0 0 0 1\n",
            "0 3 3 0 0 3 5 2 0 0 2 4\n",
            "5 3 3 2 0 3 4 5 3 0 2 0\n",
            "5 3 3 2 0 2 0 5 4 0 2 0\n",
            "5 3 3 2 0 2 0 5 4 0 2 3\n",
            "4 5 3 3 0 5 2 0 0 0 2 2\n",
            "1 0 0 0 0 0 0 0 6 0 0 0\n",
            "0 0 0 0 0 0 6 0 0 0 1 0\n",
            "0 0 3 5 0 3 5 2 0 0 4 2\n",
            "2 0 3 4 0 3 5 2 5 0 0 2\n",
            "5 0 3 0 0 3 4 2 5 0 0 2\n",
            "5 0 3 0 0 3 4 2 5 0 2 0\n",
            "5 0 3 0 0 3 0 2 5 0 2 4\n",
            "6 0\n",
            "====================\n",
            "0 0 0 0 0 0 6 0 0 0 1 0\n",
            "6 0 0 0 0 0 1 0 0 0 0 0\n",
            "0 3 3 2 0 5 4 0 5 0 0 2\n",
            "0 3 3 2 0 5 0 0 4 0 5 2\n",
            "0 3 3 2 0 5 0 0 4 0 5 2\n",
            "0 3 3 2 0 5 2 0 0 0 5 4\n",
            "0 5 3 0 0 0 2 0 0 0 5 4\n",
            "0 0 0 0 0 1 6 0 0 0 0 0\n",
            "0 0 0 0 0 0 6 0 1 0 0 0\n",
            "0 3 3 2 0 0 5 0 4 0 5 2\n",
            "5 3 3 2 0 2 0 0 0 0 4 5\n",
            "5 3 3 2 0 2 0 0 0 0 4 5\n",
            "4 3 3 0 0 2 5 0 2 0 0 5\n",
            "4 3 3 0 0 0 5 0 2 0 5 0\n",
            "0 0 0 1 0 6 0 0 0 0 0 0\n",
            "0 0 0 1 0 0 0 0 0 0 0 6\n",
            "5 0 3 0 0 4 0 0 5 0 2 2\n",
            "5 0 3 0 0 4 0 0 5 0 2 2\n",
            "5 0 3 2 0 0 0 0 5 0 2 4\n",
            "5 0 3 2 0 5 0 0 0 0 2 4\n",
            "5 0 3 2 0 5 0 0 4 0 2 0\n",
            "0 0 0 6 0 0 0 0 1 0 0 0\n",
            "0 0 0 6 0 0 0 0 1 0 0 0\n",
            "5 0 3 0 0 0 2 0 4 0 5 2\n",
            "5 0 3 5 0 0 2 0 0 0 4 2\n",
            "0 0 3 5 0 5 2 0 0 0 4 2\n",
            "4 0 3 5 0 5 3 0 2 0 0 2\n",
            "4 0 3 5 0 5 3 0 2 0 0 2\n",
            "0 0\n",
            "====================\n",
            "0 0 0 0 0 0 0 6 0 0 0 1\n",
            "0 0 0 6 0 0 0 0 0 0 1 0\n",
            "4 3 3 5 0 0 3 0 2 0 0 0\n",
            "4 3 3 5 0 0 5 0 2 0 0 2\n",
            "0 3 3 0 0 0 4 0 2 0 5 2\n",
            "0 3 3 3 0 0 4 0 2 0 5 2\n",
            "2 3 3 3 0 0 0 0 0 0 5 4\n",
            "0 0 0 0 0 0 0 0 6 0 0 1\n",
            "0 0 0 6 0 0 1 0 0 0 0 0\n",
            "2 3 3 0 0 3 4 2 0 0 5 0\n",
            "2 3 3 5 0 3 0 2 0 0 4 5\n",
            "2 3 3 5 0 3 0 2 0 0 4 5\n",
            "2 3 3 5 0 3 2 4 0 0 0 5\n",
            "2 3 3 4 0 3 5 0 0 0 0 5\n",
            "0 0 0 1 0 0 0 0 0 0 6 0\n",
            "0 0 0 0 0 0 0 6 0 0 0 1\n",
            "0 3 3 0 0 3 5 2 0 0 2 4\n",
            "5 3 3 2 0 3 4 5 3 0 2 0\n",
            "5 3 3 2 0 2 0 5 4 0 2 0\n",
            "5 3 3 2 0 2 0 5 4 0 2 3\n",
            "4 5 3 3 0 5 2 0 0 0 2 2\n",
            "1 0 0 0 0 0 0 0 6 0 0 0\n",
            "0 0 0 0 0 0 6 0 0 0 1 0\n",
            "0 0 3 5 0 3 5 2 0 0 4 2\n",
            "2 0 3 4 0 3 5 2 5 0 0 2\n",
            "5 0 3 0 0 3 4 2 5 0 0 2\n",
            "5 0 3 0 0 3 4 2 5 0 2 0\n",
            "5 0 3 0 0 3 0 2 5 0 2 4\n",
            "6 0\n",
            "====================\n",
            "0 0 0 1 0 0 6 0 0 0 0 0\n",
            "0 0 0 1 0 0 6 0 0 0 0 0\n",
            "5 3 0 0 0 2 2 0 0 0 4 0\n",
            "5 3 0 0 0 2 2 0 0 0 4 0\n",
            "5 3 0 2 0 2 4 0 0 0 0 0\n",
            "4 3 0 2 0 2 0 0 0 0 5 0\n",
            "0 3 0 4 0 2 0 0 0 0 5 0\n",
            "0 0 0 0 0 6 0 0 0 0 1 0\n",
            "6 0 0 0 0 0 1 0 0 0 0 0\n",
            "0 3 3 2 0 5 4 0 5 0 0 2\n",
            "0 3 3 2 0 5 0 0 4 0 5 2\n",
            "0 3 3 2 0 5 0 0 4 0 5 2\n",
            "0 3 3 2 0 5 2 0 0 0 5 4\n",
            "0 5 3 0 0 0 2 0 0 0 5 4\n",
            "0 0 0 0 0 1 6 0 0 0 0 0\n",
            "0 0 0 0 0 0 6 0 1 0 0 0\n",
            "0 3 3 2 0 0 5 0 4 0 5 2\n",
            "5 3 3 2 0 2 0 0 0 0 4 5\n",
            "5 3 3 2 0 2 0 0 0 0 4 5\n",
            "4 3 3 0 0 2 5 0 2 0 0 5\n",
            "4 3 3 0 0 0 5 0 2 0 5 0\n",
            "0 0 0 1 0 6 0 0 0 0 0 0\n",
            "0 0 0 1 0 0 0 0 0 0 0 6\n",
            "5 0 3 0 0 4 0 0 5 0 2 2\n",
            "5 0 3 0 0 4 0 0 5 0 2 2\n",
            "5 0 3 2 0 0 0 0 5 0 2 4\n",
            "5 0 3 2 0 5 0 0 0 0 2 4\n",
            "5 0 3 2 0 5 0 0 4 0 2 0\n",
            "0 0\n",
            "====================\n",
            "0 0 0 1 0 0 0 0 0 0 0 6\n",
            "0 0 0 1 0 0 0 0 0 0 0 6\n",
            "0 0 0 0 0 0 0 6 0 0 0 1\n",
            "0 0 0 6 0 0 0 0 0 0 0 1\n",
            "5 3 3 0 3 0 2 5 0 0 4 0\n",
            "0 3 3 5 3 0 2 5 0 0 0 4\n",
            "4 3 3 5 3 0 2 5 0 0 0 0\n",
            "4 3 3 5 3 0 0 0 0 0 2 5\n",
            "0 3 3 0 3 0 4 2 0 0 5 5\n",
            "0 0 0 6 3 0 1 0 0 0 0 0\n",
            "6 0 0 1 0 0 0 0 0 0 0 0\n",
            "2 3 3 4 0 0 0 5 0 0 5 2\n",
            "2 3 3 0 0 0 0 5 0 0 5 4\n",
            "2 3 3 0 0 0 0 5 0 0 5 4\n",
            "2 3 3 2 0 0 0 5 4 0 5 0\n",
            "0 3 3 2 0 0 0 5 4 0 5 2\n",
            "1 0 0 6 0 0 0 0 0 0 0 0\n",
            "1 0 0 6 0 0 0 0 0 0 0 0\n",
            "0 3 3 2 0 0 0 4 2 0 5 5\n",
            "2 3 3 0 0 0 0 4 2 0 5 5\n",
            "2 3 3 4 0 0 0 0 2 0 5 5\n",
            "2 3 3 4 0 0 0 5 2 0 5 0\n",
            "0 3 3 0 0 0 0 5 2 0 5 4\n",
            "0 0 0 6 0 0 0 0 0 0 0 1\n",
            "6 0 0 0 0 0 0 0 1 0 0 0\n",
            "5 3 3 5 0 0 0 2 4 0 2 0\n",
            "4 3 3 5 0 0 5 2 0 0 0 2\n",
            "4 3 3 5 0 0 5 0 0 0 2 2\n",
            "0 3\n",
            "====================\n"
          ],
          "name": "stdout"
        }
      ]
    },
    {
      "cell_type": "code",
      "metadata": {
        "id": "fEOkz43SZl5F",
        "colab_type": "code",
        "colab": {}
      },
      "source": [
        "gen_file = 'gpt2_gentext_5000_epoch_{:%Y%m%d_%H%M%S}.txt'.format(datetime.utcnow())\n",
        "\n",
        "gpt2.generate_to_file(sess,\n",
        "                      destination_path=gen_file,\n",
        "                      length=500,\n",
        "                      temperature=1.5,\n",
        "                      nsamples=100,\n",
        "                      batch_size=20,\n",
        "                      \n",
        "                      )"
      ],
      "execution_count": 0,
      "outputs": []
    },
    {
      "cell_type": "code",
      "metadata": {
        "id": "mD6rH8JkZl8G",
        "colab_type": "code",
        "colab": {}
      },
      "source": [
        "# may have to run twice to get file to download\n",
        "files.download(gen_file)"
      ],
      "execution_count": 0,
      "outputs": []
    },
    {
      "cell_type": "code",
      "metadata": {
        "id": "AG7HIcTFZl_G",
        "colab_type": "code",
        "outputId": "7e28503a-da57-43f7-9d78-3c422590fed8",
        "colab": {
          "base_uri": "https://localhost:8080/",
          "height": 145
        }
      },
      "source": [
        "model_name = \"774M\"\n",
        "\n",
        "gpt2.download_gpt2(model_name=model_name)"
      ],
      "execution_count": 0,
      "outputs": [
        {
          "output_type": "stream",
          "text": [
            "Fetching checkpoint: 1.05Mit [00:00, 241Mit/s]                                                      \n",
            "Fetching encoder.json: 1.05Mit [00:00, 134Mit/s]                                                    \n",
            "Fetching hparams.json: 1.05Mit [00:00, 360Mit/s]                                                    \n",
            "Fetching model.ckpt.data-00000-of-00001: 3.10Git [00:13, 235Mit/s]                                  \n",
            "Fetching model.ckpt.index: 1.05Mit [00:00, 202Mit/s]                                                \n",
            "Fetching model.ckpt.meta: 2.10Mit [00:00, 220Mit/s]                                                 \n",
            "Fetching vocab.bpe: 1.05Mit [00:00, 153Mit/s]                                                       \n"
          ],
          "name": "stderr"
        }
      ]
    },
    {
      "cell_type": "code",
      "metadata": {
        "id": "rBckmFo0ZmB4",
        "colab_type": "code",
        "outputId": "e7eb0ee2-2228-4e62-85e6-07ec7c38ea31",
        "colab": {
          "base_uri": "https://localhost:8080/",
          "height": 129
        }
      },
      "source": [
        "sess = gpt2.start_tf_sess()\n",
        "\n",
        "gpt2.load_gpt2(sess, model_name=model_name)"
      ],
      "execution_count": 0,
      "outputs": [
        {
          "output_type": "stream",
          "text": [
            "Loading pretrained model models/774M/model.ckpt\n",
            "WARNING:tensorflow:From /usr/local/lib/python3.6/dist-packages/tensorflow/python/training/saver.py:1276: checkpoint_exists (from tensorflow.python.training.checkpoint_management) is deprecated and will be removed in a future version.\n",
            "Instructions for updating:\n",
            "Use standard file APIs to check for files with this prefix.\n",
            "INFO:tensorflow:Restoring parameters from models/774M/model.ckpt\n"
          ],
          "name": "stdout"
        }
      ]
    },
    {
      "cell_type": "code",
      "metadata": {
        "id": "4gF4m7baZ46n",
        "colab_type": "code",
        "outputId": "b46d8507-c109-45cf-b1f8-46fdbb02ce79",
        "colab": {
          "base_uri": "https://localhost:8080/",
          "height": 825
        }
      },
      "source": [
        "gpt2.generate(sess,\n",
        "              model_name=model_name,\n",
        "              #prefix=\"3\",\n",
        "              length=100,\n",
        "              temperature=0.6,\n",
        "              top_p=1,\n",
        "              nsamples=7,\n",
        "              batch_size=7\n",
        "              )"
      ],
      "execution_count": 0,
      "outputs": [
        {
          "output_type": "stream",
          "text": [
            "WARNING:tensorflow:From /usr/local/lib/python3.6/dist-packages/gpt_2_simple/src/sample.py:32: add_dispatch_support.<locals>.wrapper (from tensorflow.python.ops.array_ops) is deprecated and will be removed in a future version.\n",
            "Instructions for updating:\n",
            "Use tf.where in 2.0, which has the same broadcast rule as np.where\n",
            "3.2.1.1.4.2.2.3.4.4.5.6.7.8.9.10.11.12.13.14.15.16.17.18.19.20.21.22.23.24.25.26.27.28.29.30.31.32.33.34.35.36.37.38.39.40.41.42.43.44.45\n",
            "====================\n",
            "3.0) from forestry_1.7.10-3.6.4.9.jar * ForestryAPI|arboriculture (2.3.0) from forestry_1.7.10-3.6.4.9.jar * ForestryAPI|circuits (2.0.0) from forestry_1.7.10-3.6.4.9.jar * ForestryAPI|core (3.2.0) from forestry_1\n",
            "====================\n",
            "3,000.00\n",
            "\n",
            "SOUTH BEND, IN - $7,000.00\n",
            "\n",
            "SOUTH LOS ANGELES, CA - $7,000.00\n",
            "\n",
            "SOUTH RIVERSIDE, CA - $7,000.00\n",
            "\n",
            "SOUTH WASHINGTON, DC - $7,000.00\n",
            "\n",
            "SOUTHWESTERN, OH - $7,000.00\n",
            "\n",
            "SOUTHWESTERN, WI - $\n",
            "====================\n",
            "3.3.1.2.1.1.1.1.1.1.1.1.1.1.1.1.1.1.1.1.1.1.1.1.1.1.1.1.1.1.1.1.1.1.1.1.1.1.1.1.1.1.1.1.1.1.1.1.1.1.1\n",
            "====================\n",
            "3. The Future of the Liberal Movement\n",
            "\n",
            "The new Conservative Party is a conservative party. It is not a party that can win in the next election. It is not a party that can win in the next election. It is a party that can win in the next election. It is a party that can win in the next election. It is a party that can win in the next election. It is a party that can win in the next election. It is a party that can win in\n",
            "====================\n",
            "3.5 million for a single quarter in 2015.\n",
            "\n",
            "\"The company is committed to providing a high quality product and providing the best customer service,\" said Steve Largent, president and chief executive officer of the company. \"The company is committed to working with the Department of Justice and the Attorney General to ensure that this matter is resolved quickly and in a manner that protects the integrity of the company and the American people.\"\n",
            "\n",
            "The company said it would cooperate fully with the investigation.\n",
            "\n",
            "\n",
            "====================\n",
            "3.6 billion in the first quarter of the year, compared with $1.8 billion in the same period last year.\n",
            "\n",
            "The company said it expects to be profitable by the end of the year.\n",
            "\n",
            "\"We are pleased with the progress we have made in the first quarter of fiscal year 2017 and look forward to delivering solid results in the second quarter,\" said CEO Eric Schmidt.\n",
            "\n",
            "The company said it is targeting to have more than 10,000 employees by the end of the\n",
            "====================\n"
          ],
          "name": "stdout"
        }
      ]
    },
    {
      "cell_type": "code",
      "metadata": {
        "id": "lfQP58d-Z5Cr",
        "colab_type": "code",
        "colab": {}
      },
      "source": [
        ""
      ],
      "execution_count": 0,
      "outputs": []
    },
    {
      "cell_type": "code",
      "metadata": {
        "id": "LLN6L5FIZ5GW",
        "colab_type": "code",
        "colab": {}
      },
      "source": [
        ""
      ],
      "execution_count": 0,
      "outputs": []
    },
    {
      "cell_type": "code",
      "metadata": {
        "id": "UQ3gCOI0ZmE3",
        "colab_type": "code",
        "colab": {}
      },
      "source": [
        ""
      ],
      "execution_count": 0,
      "outputs": []
    }
  ]
}
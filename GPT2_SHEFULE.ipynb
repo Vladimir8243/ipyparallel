{
  "nbformat": 4,
  "nbformat_minor": 0,
  "metadata": {
    "colab": {
      "name": "Untitled2.ipynb",
      "version": "0.3.2",
      "provenance": [],
      "include_colab_link": true
    },
    "kernelspec": {
      "name": "python3",
      "display_name": "Python 3"
    },
    "accelerator": "GPU"
  },
  "cells": [
    {
      "cell_type": "markdown",
      "metadata": {
        "id": "view-in-github",
        "colab_type": "text"
      },
      "source": [
        "<a href=\"https://colab.research.google.com/github/Vladimir8243/ipyparallel/blob/master/GPT2_SHEFULE.ipynb\" target=\"_parent\"><img src=\"https://colab.research.google.com/assets/colab-badge.svg\" alt=\"Open In Colab\"/></a>"
      ]
    },
    {
      "cell_type": "code",
      "metadata": {
        "id": "KYSkPKcVWcw3",
        "colab_type": "code",
        "colab": {}
      },
      "source": [
        "!pip install -q gpt-2-simple\n",
        "import gpt_2_simple as gpt2\n",
        "from datetime import datetime\n",
        "from google.colab import files"
      ],
      "execution_count": 0,
      "outputs": []
    },
    {
      "cell_type": "code",
      "metadata": {
        "id": "BI-XwhIkWgxV",
        "colab_type": "code",
        "outputId": "7bdcf483-2518-4a88-eb0f-d536036aff1e",
        "colab": {
          "base_uri": "https://localhost:8080/",
          "height": 328
        }
      },
      "source": [
        "!nvidia-smi"
      ],
      "execution_count": 2,
      "outputs": [
        {
          "output_type": "stream",
          "text": [
            "Sat Sep 14 00:36:33 2019       \n",
            "+-----------------------------------------------------------------------------+\n",
            "| NVIDIA-SMI 430.40       Driver Version: 418.67       CUDA Version: 10.1     |\n",
            "|-------------------------------+----------------------+----------------------+\n",
            "| GPU  Name        Persistence-M| Bus-Id        Disp.A | Volatile Uncorr. ECC |\n",
            "| Fan  Temp  Perf  Pwr:Usage/Cap|         Memory-Usage | GPU-Util  Compute M. |\n",
            "|===============================+======================+======================|\n",
            "|   0  Tesla T4            Off  | 00000000:00:04.0 Off |                    0 |\n",
            "| N/A   46C    P8    11W /  70W |      0MiB / 15079MiB |      0%      Default |\n",
            "+-------------------------------+----------------------+----------------------+\n",
            "                                                                               \n",
            "+-----------------------------------------------------------------------------+\n",
            "| Processes:                                                       GPU Memory |\n",
            "|  GPU       PID   Type   Process name                             Usage      |\n",
            "|=============================================================================|\n",
            "|  No running processes found                                                 |\n",
            "+-----------------------------------------------------------------------------+\n"
          ],
          "name": "stdout"
        }
      ]
    },
    {
      "cell_type": "code",
      "metadata": {
        "id": "whe66Uxuc9Ef",
        "colab_type": "code",
        "outputId": "90a366fd-0c97-4dd7-e816-796132e51a93",
        "colab": {
          "base_uri": "https://localhost:8080/",
          "height": 35
        }
      },
      "source": [
        "from google.colab import drive\n",
        "drive.mount('/content/drive')"
      ],
      "execution_count": 3,
      "outputs": [
        {
          "output_type": "stream",
          "text": [
            "Drive already mounted at /content/drive; to attempt to forcibly remount, call drive.mount(\"/content/drive\", force_remount=True).\n"
          ],
          "name": "stdout"
        }
      ]
    },
    {
      "cell_type": "code",
      "metadata": {
        "id": "Hw92V757WnO7",
        "colab_type": "code",
        "outputId": "9e366d00-49ab-44f5-e0c3-f405a11a7e45",
        "colab": {
          "base_uri": "https://localhost:8080/",
          "height": 35
        }
      },
      "source": [
        "gpt2.mount_gdrive()"
      ],
      "execution_count": 4,
      "outputs": [
        {
          "output_type": "stream",
          "text": [
            "Drive already mounted at /content/drive; to attempt to forcibly remount, call drive.mount(\"/content/drive\", force_remount=True).\n"
          ],
          "name": "stdout"
        }
      ]
    },
    {
      "cell_type": "code",
      "metadata": {
        "id": "tgp3fnPHdl8Y",
        "colab_type": "code",
        "outputId": "f7a69a5c-e330-4917-c55c-1f416fd1f779",
        "colab": {
          "base_uri": "https://localhost:8080/",
          "height": 35
        }
      },
      "source": [
        "from google.colab import drive\n",
        "drive.mount('/content/drive')"
      ],
      "execution_count": 0,
      "outputs": [
        {
          "output_type": "stream",
          "text": [
            "Drive already mounted at /content/drive; to attempt to forcibly remount, call drive.mount(\"/content/drive\", force_remount=True).\n"
          ],
          "name": "stdout"
        }
      ]
    },
    {
      "cell_type": "code",
      "metadata": {
        "id": "cXyUVAftf0Qu",
        "colab_type": "code",
        "outputId": "af09cd82-832d-4cd4-955b-0e12f877f8ab",
        "colab": {
          "base_uri": "https://localhost:8080/",
          "height": 145
        }
      },
      "source": [
        "gpt2.download_gpt2(model_name=\"124M\")"
      ],
      "execution_count": 3,
      "outputs": [
        {
          "output_type": "stream",
          "text": [
            "Fetching checkpoint: 1.05Mit [00:00, 235Mit/s]                                                      \n",
            "Fetching encoder.json: 1.05Mit [00:00, 93.1Mit/s]                                                   \n",
            "Fetching hparams.json: 1.05Mit [00:00, 356Mit/s]                                                    \n",
            "Fetching model.ckpt.data-00000-of-00001: 498Mit [00:01, 262Mit/s]                                   \n",
            "Fetching model.ckpt.index: 1.05Mit [00:00, 283Mit/s]                                                \n",
            "Fetching model.ckpt.meta: 1.05Mit [00:00, 213Mit/s]                                                 \n",
            "Fetching vocab.bpe: 1.05Mit [00:00, 215Mit/s]                                                       \n"
          ],
          "name": "stderr"
        }
      ]
    },
    {
      "cell_type": "code",
      "metadata": {
        "id": "IiKhwcdKWnSI",
        "colab_type": "code",
        "colab": {}
      },
      "source": [
        "file_name = \"FINAL_RESULT.txt\""
      ],
      "execution_count": 0,
      "outputs": []
    },
    {
      "cell_type": "code",
      "metadata": {
        "id": "ym7H-UpmWnU7",
        "colab_type": "code",
        "colab": {}
      },
      "source": [
        "gpt2.copy_file_from_gdrive(file_name)"
      ],
      "execution_count": 0,
      "outputs": []
    },
    {
      "cell_type": "code",
      "metadata": {
        "id": "N_F0enLfWnXq",
        "colab_type": "code",
        "outputId": "e7c204bb-85be-47b4-c123-fea857e33226",
        "colab": {
          "base_uri": "https://localhost:8080/",
          "height": 1000
        }
      },
      "source": [
        "sess = gpt2.start_tf_sess()\n",
        "\n",
        "gpt2.finetune(sess,\n",
        "              dataset=file_name,\n",
        "              model_name='124M',\n",
        "              steps=5000,\n",
        "              restore_from='fresh',\n",
        "              run_name='test1',\n",
        "              print_every=50,\n",
        "              sample_every=100,\n",
        "              save_every=100\n",
        "              )"
      ],
      "execution_count": 6,
      "outputs": [
        {
          "output_type": "stream",
          "text": [
            "WARNING:tensorflow:From /usr/local/lib/python3.6/dist-packages/gpt_2_simple/src/sample.py:17: add_dispatch_support.<locals>.wrapper (from tensorflow.python.ops.array_ops) is deprecated and will be removed in a future version.\n",
            "Instructions for updating:\n",
            "Use tf.where in 2.0, which has the same broadcast rule as np.where\n",
            "Loading checkpoint models/124M/model.ckpt\n",
            "WARNING:tensorflow:From /usr/local/lib/python3.6/dist-packages/tensorflow/python/training/saver.py:1276: checkpoint_exists (from tensorflow.python.training.checkpoint_management) is deprecated and will be removed in a future version.\n",
            "Instructions for updating:\n",
            "Use standard file APIs to check for files with this prefix.\n",
            "INFO:tensorflow:Restoring parameters from models/124M/model.ckpt\n"
          ],
          "name": "stdout"
        },
        {
          "output_type": "stream",
          "text": [
            "100%|██████████| 1/1 [00:00<00:00, 1182.16it/s]"
          ],
          "name": "stderr"
        },
        {
          "output_type": "stream",
          "text": [
            "Loading dataset...\n",
            "dataset has 4765 tokens\n",
            "Training...\n"
          ],
          "name": "stdout"
        },
        {
          "output_type": "stream",
          "text": [
            "\n"
          ],
          "name": "stderr"
        },
        {
          "output_type": "stream",
          "text": [
            "Saving checkpoint/test1/model-100\n",
            "Saving checkpoint/test1/model-200\n",
            "WARNING:tensorflow:From /usr/local/lib/python3.6/dist-packages/tensorflow/python/training/saver.py:960: remove_checkpoint (from tensorflow.python.training.checkpoint_management) is deprecated and will be removed in a future version.\n",
            "Instructions for updating:\n",
            "Use standard file APIs to delete files with this prefix.\n",
            "Saving checkpoint/test1/model-300\n",
            "Saving checkpoint/test1/model-400\n",
            "[500 | 1168.75] loss=0.02 avg=0.02\n",
            "Saving checkpoint/test1/model-500\n",
            "======== SAMPLE 1 ========\n",
            " 0 5 2 3 0 4\n",
            "4 0 0 0 2 0 5 0 0 0 0 0\n",
            "0 0 0 6 0 0 1 0 0 0 0 0\n",
            "0 0 0 6 0 0 1 0 0 0 0 0\n",
            "5 0 0 0 0 0 2 4 0 0 0 0\n",
            "5 0 0 0 0 0 2 4 0 0 0 0\n",
            "4 0 0 0 2 0 5 0 0 0 0 0\n",
            "0 0 0 6 0 0 0 0 0 0 0 1\n",
            "0 0 0 6 0 0 0 0 0 0 0 1\n",
            "5 0 0 0 0 0 2 0 0 0 0 0\n",
            "5 0 0 0 0 0 2 4 0 0 0 0\n",
            "4 0 0 0 2 0 5 0 0 0 0 0\n",
            "0 0 0 6 0 0 1 0 0 0 0 0\n",
            "0 0 0 6 0 0 1 0 0 0 0 0\n",
            "3 3 5 2 0 0 2 0 0 0 5 4\n",
            "0 3 5 0 0 0 2 0 0 0 4 5\n",
            "3 3 4 0 0 0 2 0 0 0 5 5\n",
            "3 3 0 0 0 0 2 0 0 0 5 4\n",
            "3 3 0 4 0 0 2 0 0 0 5 4\n",
            "2 3 3 0 0 0 0 5 0 0 5 4\n",
            "6 0 0 0 0 0 0 0 0 0 0 1\n",
            "0 0 0 0 0 0 1 0 6 0 0 0\n",
            "0 3 3 2 0 0 5 4 0 5 0 0\n",
            "2 3 3 0 0 0 5 4 0 5 0 2\n",
            "5 3 3 2 0 0 4 0 0 5 0 2\n",
            "5 3 3 2 0 0 4 0 0 5 0 2\n",
            "5 3 3 0 0 0 2 0 0 5 4\n",
            "4 5 3 0 0 0 5 0 0 2 0\n",
            "0 0 0 0 0 0 0 6 0 0 0 1\n",
            "0 0 0 1 0 0 0 0 0 0 6 0\n",
            "0 0 0 0 0 0 0 6 0 0 0 1\n",
            "0 3 3 0 0 0 5 2 0 4 0\n",
            "5 3 3 2 0 0 4 0 0 5 0\n",
            "5 3 3 2 0 0 4 0 0 5 0\n",
            "5 3 3 2 0 0 0 0 0 4 5\n",
            "4 5 3 0 0 0 5 0 0 2 0\n",
            "1 0 0 0 0 0 0 0 0 0 6 0\n",
            "1 0 0 0 0 0 0 0 0 0 6 0\n",
            "0 3 3 5 0 0 4 0 0 2 0\n",
            "0 3 3 5 0 0 4 0 0 2 5\n",
            "3 3 3 4 0 0 2 0 0 5 5\n",
            "3 3 3 4 0 0 2 0 0 5 5\n",
            "2 3 3 4 0 0 5 0 0 5 3\n",
            "6 0 0 0 0 0 0 0 0 0 1\n",
            "0 0 0 0 0 0 6 0 1 0 0\n",
            "0 0 0 6 0 0 0 0 0 1 0\n",
            "2 3 3 4 0 0 5 0 0 5 2\n",
            "4 3 3 0 0 0 5 0 0 5 2\n",
            "4 3 3 0 0 0 5 0 0 5 2\n",
            "0 3 3 0 0 0 4 0 0 5 2\n",
            "0 0 0 0 0 0 6 0 0 0 1\n",
            "0 0 0 6 0 0 1 0 0 0 0\n",
            "2 3 3 0 0 3 4 0 0 5 2\n",
            "2 3 3 6 0 3 0 0 0 5 4\n",
            "2 3 3 5 0 3 0 0 0 5 4\n",
            "2 3 3 5 0 3 0 0 0 5 4\n",
            "2 3 3 4 0 3 5 0 0 5 0\n",
            "0 0 0 1 0 0 0 0 0 6 0\n",
            "0 0 0 0 0 0 6 0 1 0 0\n",
            "2 3 3 0 0 3 5 0 0 4 0\n",
            "4 3 3 0 0 3 5 0 0 0 2\n",
            "4 3 3 0 0 3 5 0 0 2 0\n",
            "0 0 0 1 0 0 0 0 0 6 0\n",
            "0 0 0 0 0 0 6 0 1 0 0\n",
            "0 3 3 0 0 3 4 0 2 5 0\n",
            "0 3 3 0 0 3 4 0 2 5 0\n",
            "3 3 3 4 0 3 0 2 5 5 0\n",
            "3 3 3 4 0 3 5 0 2 5 0\n",
            "2 3 3 4 0 3 5 0 0 5 0\n",
            "6 0 0 0 0 0 0 0 0 0 1\n",
            "0 0 0 0 0 0 6 0 1 0 0\n",
            "5 3 3 5 0 3 0 2 4 0 2\n",
            "5 3 3 5 0 3 0 2 4 0 2\n",
            "5 3 3 5 0 3 0 2 0 0 2\n",
            "5 3 3 4 0 3 5 0 0 2 0\n",
            "0 0 0 1 0 0 0 0 6 0 0\n",
            "0 0 0 0 0 0 6 0 1 0 0\n",
            "2 3 3 4 0 3 5 0 0 5 0\n",
            "2 3 3 4 0 3 5 0 0 5 0\n",
            "2 3 3 4 0 3 5 0 0 5 0\n",
            "2 3 3 4 0 3 5 0 0 5 0\n",
            "0 0 0 1 0 0 0 0 6 0 0\n",
            "0 0 0 0 0 0 6 0 1 0 0\n",
            "I 2 3\n",
            "\n",
            "Saving checkpoint/test1/model-600\n",
            "Saving checkpoint/test1/model-700\n",
            "Saving checkpoint/test1/model-800\n",
            "Saving checkpoint/test1/model-900\n",
            "[1000 | 2349.11] loss=0.02 avg=0.02\n",
            "Saving checkpoint/test1/model-1000\n",
            "======== SAMPLE 1 ========\n",
            " 2 2 0 5 5 5 0 0 0\n",
            "5 3 2 2 0 0 4 0 5 0 0 0\n",
            "4 3 3 2 0 0 5 0 5 0 2 0\n",
            "0 3 4 2 0 5 0 0 5 0 2 0\n",
            "0 0 0 1 0 0 0 0 6 0 0 0\n",
            "0 0 0 0 0 1 0 0 0 0 6 0\n",
            "2 3 0 5 0 2 0 0 4 0 5 0\n",
            "5 3 0 2 0 2 0 0 4 0 5 0\n",
            "5 3 0 0 0 2 0 0 4 0 5 0\n",
            "4 3 0 2 0 2 0 0 0 0 5 0\n",
            "4 3 0 2 0 2 0 0 0 0 5 0\n",
            "0 0 0 1 0 0 0 0 6 0 0 0\n",
            "0 0 0 0 0 0 0 6 0 0 0 1\n",
            "5 3 0 0 0 2 0 0 4 0 5 2\n",
            "5 3 0 0 0 2 0 0 4 0 5 2\n",
            "5 3 0 2 0 2 0 0 4 0 5 2\n",
            "4 3 0 2 0 2 0 0 0 0 5 2\n",
            "0 3 0 4 0 2 0 0 0 0 5 2\n",
            "0 0 0 0 0 0 6 0 0 0 1 0\n",
            "6 0 0 0 0 0 0 0 1 0 0 0\n",
            "0 3 3 2 0 5 4 0 5 0 0 2\n",
            "0 3 3 2 0 5 0 0 4 0 5 2\n",
            "0 3 3 2 0 5 0 0 4 0 5 2\n",
            "0 3 3 2 0 5 2 0 0 0 5 4\n",
            "0 5 3 0 0 0 2 0 0 0 5 4\n",
            "0 0 0 0 0 1 6 0 0 0 0 0\n",
            "0 0 0 0 0 0 6 0 1 0 0 0\n",
            "0 3 3 2 0 0 4 0 2 0 5 5\n",
            "0 3 3 2 0 0 4 0 2 0 5 5\n",
            "0 3 3 2 0 2 0 0 5 0 5 4\n",
            "0 3 3 0 0 2 0 0 5 0 5 4\n",
            "0 0 0 0 0 6 0 0 0 0 1 0\n",
            "0 0 0 0 0 0 6 0 1 0 0 0\n",
            "2 3 3 5 0 0 5 0 2 0 0 4\n",
            "4 3 3 5 0 0 5 0 2 0 0 0\n",
            "4 3 3 5 0 0 5 0 2 0 0 2\n",
            "0 3 3 0 0 4 5 0 2 0 0 2\n",
            "0 0 0 0 0 1 6 0 0 0 0 0\n",
            "0 0 0 0 0 0 6 0 1 0 0 0\n",
            "2 3 3 4 0 0 5 0 2 0 0 5\n",
            "2 3 3 4 0 0 5 0 2 0 0 5\n",
            "2 3 3 4 0 0 5 0 2 0 0 5\n",
            "2 3 3 0 0 0 5 0 2 0 0 5\n",
            "0 0 0 1 0 0 6 0 0 0 0 0\n",
            "0 0 0 1 0 0 6 0 0 0 0 0\n",
            "2 3 3 4 0 0 5 0 2 0 0 5\n",
            "2 3 3 4 0 0 5 0 2 0 0 5\n",
            "2 3 3 4 0 0 5 0 2 0 0 5\n",
            "2 3 3 4 0 0 5 0 2 0 0 5\n",
            "0 3 3 0 0 0 4 0 2 0 0 5\n",
            "0 0 0 0 0 0 6 1 0 0 0 0\n",
            "0 0 0 0 0 0 6 1 0 0 0 0\n",
            "5 3 3 0 0 0 3 0 2 0 0 4\n",
            "5 3 3 0 0 0 2 0 0 0 0 4\n",
            "5 3 3 2 0 0 5 0 4 0 0 0\n",
            "0 3 3 2 0 0 5 0 4 0 0 2\n",
            "5 3 3 0 0 0 2 0 0 0 0 4\n",
            "6 0 0 0 0 0 0 0 0 0 0 1\n",
            "0 0 0 0 0 0 6 0 1 0 0 0\n",
            "0 3 3 2 0 0 4 0 5 0 0 2 2\n",
            "5 3 3 2 0 2 0 0 4 0 0 5 2\n",
            "5 3 3 2 0 2 0 0 4 0 0 5 2\n",
            "4 5 3 3 0 0 5 0 0 0 0 2 2\n",
            "1 0 0 0 0 0 0 0 0 0 0 6\n",
            "0 0 0 0 0 0 6 0 1 0 0 0\n",
            "0 0 3 5 0 0 6 0 1 0 0 2 4\n",
            "0 3 3 5 0 5 2 0 2 0 0 4 0\n",
            "4 4 3 3 0 5 3 0 2 0 0 0 2\n",
            "1 0 0 0 0 0 0 0 0 0 6 0\n",
            "1 0 0 0 0 0 0 0 0 0 6 0\n",
            "0 3 3 5 0 5 2 0 2 0 0 4\n",
            "4 3 3 5 0 5 2 0 2 0 0 0 2\n",
            "4 3 3 5 0 5 2 0 2 0 0 0 2\n",
            "0 3 3 0 0 4 2 0 2 0 0 5 2\n",
            "0 3 3 0 0 4 2 0 2 0 0 5 2\n",
            "2 0 0 0 0 0 5 0 0 0 0 1\n",
            "6 0 0 0 0 0 4 0 0 0 0 1\n",
            "0 3 3 2 0 0 4 0 2 0 0 5 5\n",
            "6\n",
            "\n",
            "Saving checkpoint/test1/model-1100\n",
            "Saving checkpoint/test1/model-1200\n",
            "Saving checkpoint/test1/model-1300\n",
            "Saving checkpoint/test1/model-1400\n",
            "[1500 | 3517.18] loss=0.01 avg=0.02\n",
            "Saving checkpoint/test1/model-1500\n",
            "======== SAMPLE 1 ========\n",
            " 3\n",
            "5 3 3 2 0 4 0 5 0 0 2 2\n",
            "5 3 3 2 0 0 0 4 0 0 2 2\n",
            "5 3 3 2 0 2 0 0 0 0 5 4\n",
            "0 0 0 0 0 0 0 6 1 0 0 0\n",
            "0 0 0 0 0 0 0 6 1 0 0 0\n",
            "0 3 3 2 0 5 0 4 0 0 5 2\n",
            "5 3 3 2 0 2 0 0 0 0 4 5\n",
            "5 3 3 2 0 2 0 0 0 0 4 5\n",
            "4 3 3 0 0 2 5 0 2 0 0 5\n",
            "4 3 3 0 0 0 5 0 2 0 5 0\n",
            "0 0 0 1 0 6 0 0 0 0 0 0\n",
            "0 0 0 1 0 0 0 0 0 0 0 6\n",
            "5 0 3 0 0 4 0 0 5 0 2 2\n",
            "5 0 3 0 0 4 0 0 5 0 2 2\n",
            "5 0 3 2 0 0 0 0 5 0 2 4\n",
            "5 0 3 2 0 5 0 0 0 0 2 4\n",
            "5 0 3 2 0 5 0 0 4 0 2 0\n",
            "0 0 0 6 0 0 0 0 1 0 0 0\n",
            "0 0 0 6 0 0 0 0 1 0 0 0\n",
            "5 0 3 0 0 0 2 0 4 0 5 2\n",
            "5 0 3 5 0 0 2 0 0 0 4 2\n",
            "0 0 3 5 0 5 2 0 0 0 4 2\n",
            "4 0 3 5 0 5 3 0 2 0 0 2\n",
            "4 0 3 5 0 5 3 0 2 0 0 2\n",
            "0 0 0 1 0 0 0 0 6 0 0 0\n",
            "0 0 0 0 0 1 0 0 0 0 6 0\n",
            "0 3 3 0 0 4 2 0 2 0 5 5\n",
            "0 5 3 2 0 0 4 0 2 0 0 5\n",
            "5 3 3 2 0 0 4 0 2 0 0 5\n",
            "5 3 3 2 0 2 0 0 5 0 3 4\n",
            "5 3 3 0 0 2 0 0 5 0 2 4\n",
            "1 0 0 0 0 0 0 0 0 0 6 0\n",
            "1 0 0 0 0 0 0 0 0 0 6 0\n",
            "0 3 3 5 0 5 2 0 4 0 0 2\n",
            "0 3 3 5 0 5 2 0 4 0 0 2\n",
            "3 3 3 4 0 5 2 0 0 0 5 2\n",
            "3 3 3 4 0 5 2 0 0 0 5 2\n",
            "2 3 3 4 0 0 2 0 0 0 5 5\n",
            "6 0 0 0 0 0 0 0 0 0 1 0\n",
            "0 0 0 0 0 1 0 0 6 0 0 0\n",
            "0 3 2 2 0 4 5 0 5 0 0 0\n",
            "4 3 3 2 0 0 5 0 5 0 2 0\n",
            "4 3 3 2 0 0 5 0 5 0 2 0\n",
            "0 5 3 2 0 3 5 0 4 0 2 0\n",
            "4 5 3 0 0 2 5 0 0 0 2 0\n",
            "0 0 0 0 0 6 0 0 0 0 0 1\n",
            "0 0 0 0 0 0 0 0 6 0 0 1\n",
            "0 3 3 2 0 5 5 0 2 0 4 0\n",
            "0 3 3 2 0 5 5 0 2 0 4 0\n",
            "0 3 3 2 0 4 5 0 2 0 0 5\n",
            "0 3 3 2 0 4 5 0 2 0 0 5\n",
            "0 3 2 0 0 4 5 0 0 0 2 5\n",
            "0 0 0 6 0 0 0 0 0 0 1 0\n",
            "0 0 0 0 0 0 1 0 6 0 0 0\n",
            "0 3 5 5 0 2 4 0 0 0 0 2\n",
            "2 2 5 4 0 3 0 0 0 0 0 5\n",
            "2 2 3 4 0 3 5 0 0 0 0 5\n",
            "2 2 3 0 0 5 5 0 0 0 0 4\n",
            "2 2 3 0 0 5 5 0 0 0 0 4\n",
            "0 0 0 6 0 0 1 0 0 0 0 0\n",
            "0 0 0 6 0 0 1 0 0 0 0 0\n",
            "2 2 3 4 0 5 0 0 5 0 0 0\n",
            "2 2 3 4 0 5 0 0 5 0 0 0\n",
            "2 3 3 0 0 5 2 0 5 0 0 4\n",
            "2 3 3 0 0 5 2 0 5 0 0 4\n",
            "2 3 3 2 0 0 5 0 4 0 0 0\n",
            "0 0 0 6 0 1 0 0 0 0 0 0\n",
            "0 0 0 0 0 1 6 0 0 0 0 0\n",
            "5 2 3 5 0 0 4 0 2 0 0 0\n",
            "4 3 3 5 0 2 0 0 2 0 0 5\n",
            "4 3 3 5 0 2 0 0 2 0 0 5\n",
            "0 3 3 5 0 5 2 0 0 0 0 4\n",
            "0 2 3 5 0 4 5 0 2 0 0 0\n",
            "6 0 0 0 0 0 0 0 0 0 0 1\n",
            "6 0 0 0 0 0 0 0 0 0 0 1\n",
            "0 5 3 5 0 2 2 0 4 0 0 0\n",
            "0 3 3 5 0 2 2 0 4 0 3 0\n",
            "2 3 2 5 0 0 4 0 0 0 5 0\n",
            "2 3 2 5 0 0 4 0\n",
            "\n",
            "Saving checkpoint/test1/model-1600\n",
            "Saving checkpoint/test1/model-1700\n",
            "Saving checkpoint/test1/model-1800\n",
            "Saving checkpoint/test1/model-1900\n",
            "[2000 | 4683.76] loss=0.01 avg=0.02\n",
            "Saving checkpoint/test1/model-2000\n",
            "======== SAMPLE 1 ========\n",
            " 3 2 5 5 2 3 0 0 0\n",
            "4 3 4 0 3 0 5 5 2 0 0 2\n",
            "0 0 0 1 0 0 0 0 0 0 6\n",
            "0 0 0 1 0 0 0 0 0 0 6\n",
            "0 0 0 0 0 0 6 0 0 0 6\n",
            "0 3 3 0 0 4 2 0 2 0 5 5\n",
            "0 5 3 2 0 0 4 0 2 0 0 5\n",
            "5 3 3 2 0 0 4 0 2 0 0 5\n",
            "5 3 3 2 0 2 0 0 5 0 3 4\n",
            "5 3 3 0 0 2 0 0 5 0 2 4\n",
            "1 0 0 0 0 0 0 0 0 0 6 0\n",
            "1 0 0 0 0 0 0 0 0 0 6 0\n",
            "0 3 3 5 0 5 2 0 4 0 0 2\n",
            "0 3 3 5 0 5 2 0 4 0 0 2\n",
            "3 3 3 4 0 5 2 0 0 0 5 2\n",
            "3 3 3 4 0 5 2 0 0 0 5 2\n",
            "2 3 3 4 0 0 2 0 0 0 5 5\n",
            "6 0 0 0 0 0 0 0 0 0 1 0\n",
            "0 0 0 0 0 1 0 0 6 0 0 0\n",
            "0 3 2 2 0 4 5 0 5 0 0 0\n",
            "4 3 3 2 0 0 5 0 5 0 2 0\n",
            "4 3 3 2 0 0 5 0 5 0 2 0\n",
            "0 5 3 2 0 3 5 0 4 0 2 0\n",
            "4 5 3 0 0 2 5 0 0 0 2 0\n",
            "0 0 0 0 0 6 0 0 0 0 0 1\n",
            "0 0 0 0 0 0 0 0 6 0 0 1\n",
            "0 3 3 2 0 5 5 0 2 0 4 0\n",
            "0 3 3 2 0 5 5 0 2 0 4 0\n",
            "0 3 3 2 0 4 5 0 2 0 0 5\n",
            "0 3 3 2 0 4 5 0 2 0 0 5\n",
            "0 3 2 0 0 4 5 0 0 0 2 5\n",
            "0 0 0 6 0 0 0 0 0 0 1 0\n",
            "0 0 0 0 0 0 1 0 6 0 0 0\n",
            "0 3 5 5 0 2 4 0 0 0 0 2\n",
            "2 2 5 4 0 3 0 0 0 0 0 5\n",
            "2 2 3 4 0 3 5 0 0 0 0 5\n",
            "2 2 3 0 0 5 5 0 0 0 0 4\n",
            "2 2 3 0 0 5 5 0 0 0 0 4\n",
            "0 0 0 6 0 0 1 0 0 0 0 0\n",
            "0 0 0 6 0 0 1 0 0 0 0 0\n",
            "2 2 3 4 0 5 0 0 5 0 0 0\n",
            "2 2 3 4 0 5 0 0 5 0 0 0\n",
            "2 3 3 0 0 5 2 0 5 0 0 4\n",
            "2 3 3 0 0 5 2 0 5 0 0 4\n",
            "2 3 3 2 0 0 5 0 4 0 0 0\n",
            "0 0 0 6 0 1 0 0 0 0 0 0\n",
            "0 0 0 0 0 1 6 0 0 0 0 0\n",
            "5 2 3 5 0 0 4 0 2 0 0 0\n",
            "4 3 3 5 0 2 0 0 2 0 0 5\n",
            "4 3 3 5 0 2 0 0 2 0 0 5\n",
            "0 3 3 5 0 5 2 0 0 0 0 4\n",
            "0 2 3 5 0 4 5 0 2 0 0 0\n",
            "6 0 0 0 0 0 0 0 0 0 0 1\n",
            "6 0 0 0 0 0 0 0 0 0 0 1\n",
            "0 5 3 5 0 2 2 0 4 0 0 0\n",
            "0 3 3 5 0 2 2 0 4 0 3 0\n",
            "2 3 2 5 0 0 4 0 0 0 5 0\n",
            "2 3 2 5 0 0 4 0 0 0 5 0\n",
            "2 5 3 5 0 0 0 0 0 0 4 5\n",
            "0 0 0 0 0 0 0 0 6 0 0 1\n",
            "0 0 0 0 0 0 0 0 6 0 0 1\n",
            "0 0 0 0 0 0 0 0 6 0 0 1\n",
            "5 2 5 0 0 4 0 0 0 0 2 0\n",
            "5 2 5 0 0 4 0 0 0 0 2 0\n",
            "4 2 3 0 0 0 0 0 0 0 5 2\n",
            "4 5 2 0 0 0 0 0 2 0 0 5\n",
            "0 0 0 0 0 0 0 0 6 0 1 0\n",
            "0 0 0 0 0 0 0 0 6 0 1 0\n",
            "2 5 2 0 0 5 0 0 0 0 0 4\n",
            "2 3 3 0 0 5 0 0 2 0 5 4\n",
            "2 3 2 0 0 4 0 0 5 0 5 0\n",
            "2 5 2 0 0 4 0 0 5 0 0 0\n",
            "4 5 2 0 0 0 0 0 5 0 0 2\n",
            "0 0 0 0 0 0 6 0 0 0 1 0\n",
            "0 0 0 0 0 0 6 0 0 0 1 0\n",
            "2 3 3 0 0 4 5 0 5 0 0 2\n",
            "0 3 2 0 0 0 4 0 5 0 0 2\n",
            "5 3 3 0 0 0 4 0 5 0 2 2\n",
            "5 3 3 0 0 0 0 0 4 0 2 2\n",
            "5 5 2\n",
            "\n",
            "Saving checkpoint/test1/model-2100\n",
            "Saving checkpoint/test1/model-2200\n",
            "Saving checkpoint/test1/model-2300\n",
            "Saving checkpoint/test1/model-2400\n",
            "[2500 | 5847.40] loss=0.02 avg=0.02\n",
            "Saving checkpoint/test1/model-2500\n"
          ],
          "name": "stdout"
        }
      ]
    },
    {
      "cell_type": "code",
      "metadata": {
        "id": "pkQoJ9CBWnab",
        "colab_type": "code",
        "colab": {}
      },
      "source": [
        "gpt2.copy_checkpoint_to_gdrive(run_name='test1')"
      ],
      "execution_count": 0,
      "outputs": []
    },
    {
      "cell_type": "code",
      "metadata": {
        "id": "Ews6QFEKWnc5",
        "colab_type": "code",
        "colab": {}
      },
      "source": [
        "gpt2.copy_checkpoint_from_gdrive(run_name='test1')"
      ],
      "execution_count": 0,
      "outputs": []
    },
    {
      "cell_type": "code",
      "metadata": {
        "id": "ovUkMOlAdNCG",
        "colab_type": "code",
        "colab": {
          "base_uri": "https://localhost:8080/",
          "height": 129
        },
        "outputId": "1061b341-b9a2-4f9a-9ab7-7995d72591b6"
      },
      "source": [
        "sess = gpt2.start_tf_sess()\n",
        "gpt2.load_gpt2(sess, run_name='test1')"
      ],
      "execution_count": 3,
      "outputs": [
        {
          "output_type": "stream",
          "text": [
            "Loading checkpoint checkpoint/test1/model-2500\n",
            "WARNING:tensorflow:From /usr/local/lib/python3.6/dist-packages/tensorflow/python/training/saver.py:1276: checkpoint_exists (from tensorflow.python.training.checkpoint_management) is deprecated and will be removed in a future version.\n",
            "Instructions for updating:\n",
            "Use standard file APIs to check for files with this prefix.\n",
            "INFO:tensorflow:Restoring parameters from checkpoint/test1/model-2500\n"
          ],
          "name": "stdout"
        }
      ]
    },
    {
      "cell_type": "code",
      "metadata": {
        "id": "QnuHbUJ9dRQ2",
        "colab_type": "code",
        "colab": {
          "base_uri": "https://localhost:8080/",
          "height": 1000
        },
        "outputId": "0e88495d-8e6e-483a-9175-ffdc7a1a91cb"
      },
      "source": [
        "gpt2.generate(sess, run_name='run1')"
      ],
      "execution_count": 5,
      "outputs": [
        {
          "output_type": "stream",
          "text": [
            "0 3 3 5 3 0 2 5 0 0 0 0 4\n",
            "0 3 3 5 3 0 2 5 0 0 0 4\n",
            "6 0 0 0 0 0 0 0 0 0 0 1\n",
            "0 0 0 0 0 0 6 0 0 0 1 0\n",
            "4 3 3 2 5 0 2 5 0 0 0 0\n",
            "4 3 3 2 5 0 0 2 5 0 0 0\n",
            "0 3 3 2 5 0 2 5 0 0 0 4\n",
            "0 3 3 2 5 0 0 2 5 0 0 4\n",
            "2 3 3 2 5 0 0 4 0 0 0 5\n",
            "0 0 0 0 1 0 0 0 0 0 0 6\n",
            "0 0 0 0 0 0 0 6 0 0 0 1\n",
            "0 3 3 2 0 0 0 4 0 5 0 2 0\n",
            "5 3 3 2 0 2 0 4 0 5 0 2 0\n",
            "5 3 3 2 0 2 0 4 0 5 0 2 3\n",
            "4 5 3 3 0 5 2 0 0 0 0 2\n",
            "1 0 0 0 0 0 0 0 0 0 0 6\n",
            "1 0 0 0 0 0 0 0 0 0 0 6\n",
            "0 3 3 5 4 0 2 5 0 0 0 2\n",
            "0 3 3 5 0 0 2 5 0 0 2 4\n",
            "2 3 3 4 0 0 5 0 0 0 2 4\n",
            "5 3 3 2 0 2 0 0 0 0 4 5\n",
            "5 3 3 2 0 2 0 0 0 0 4 5\n",
            "4 3 3 0 0 2 5 0 2 0 0 5\n",
            "4 3 3 0 0 0 5 0 2 0 5 0\n",
            "0 0 0 1 0 0 6 0 0 0 0 0\n",
            "0 0 0 1 0 0 6 0 0 0 0 0\n",
            "5 0 3 0 0 4 0 0 5 0 2 2\n",
            "5 0 3 0 0 4 0 0 5 0 2 2\n",
            "5 0 3 2 0 0 0 0 5 0 2 4\n",
            "5 0 3 2 0 5 0 0 0 0 2 4\n",
            "5 0 3 2 0 5 0 0 4 0 2 0\n",
            "0 0 0 6 0 0 0 0 1 0 0 0\n",
            "0 0 0 6 0 0 0 0 1 0 0 0\n",
            "5 0 3 0 0 0 2 0 4 0 5 2\n",
            "5 0 3 5 0 0 2 0 0 0 4 2\n",
            "0 0 3 5 0 5 2 0 0 0 4 2\n",
            "4 0 3 5 0 5 3 0 2 0 0 2\n",
            "4 0 3 5 0 5 3 0 2 0 0 2\n",
            "0 0 0 1 0 0 0 0 6 0 0 0\n",
            "0 0 0 0 0 1 0 0 0 0 6 0\n",
            "0 3 3 0 0 4 2 0 2 0 5 5\n",
            "0 5 3 2 0 0 4 0 2 0 0 5\n",
            "5 3 3 2 0 0 4 0 2 0 0 5\n",
            "5 3 3 2 0 2 0 0 5 0 3 4\n",
            "5 3 3 0 0 2 0 0 5 0 2 4\n",
            "1 0 0 0 0 0 0 0 0 0 6 0\n",
            "1 0 0 0 0 0 0 0 0 0 6 0\n",
            "0 3 3 5 0 5 2 0 4 0 0 2\n",
            "0 3 3 5 0 5 2 0 4 0 0 2\n",
            "3 3 3 4 0 5 2 0 0 0 5 2\n",
            "3 3 3 4 0 5 2 0 0 0 5 2\n",
            "2 3 3 4 0 0 2 0 0 0 5 5\n",
            "6 0 0 0 0 0 0 0 0 0 1 0\n",
            "0 0 0 0 0 1 0 0 6 0 0 0\n",
            "0 3 2 2 0 4 5 0 5 0 0 0\n",
            "4 3 3 2 0 0 5 0 5 0 2 0\n",
            "4 3 3 2 0 0 5 0 5 0 2 0\n",
            "0 5 3 2 0 3 5 0 4 0 2 0\n",
            "4 5 3 0 0 2 5 0 0 0 2 0\n",
            "0 0 0 0 0 6 0 0 0 0 0 1\n",
            "0 0 0 0 0 0 0 0 6 0 0 1\n",
            "0 3 3 2 0 5 5 0 2 0 4 0\n",
            "0 3 3 2 0 5 5 0 2 0 4 0\n",
            "0 3 3 2 0 4 5 0 2 0 0 5\n",
            "0 3 3 2 0 4 5 0 2 0 0 5\n",
            "0 3 2 0 0 4 5 0 0 0 2 5\n",
            "0 0 0 6 0 0 0 0 0 0 1 0\n",
            "0 0 0 0 0 0 1 0 6 0 0 0\n",
            "0 3 5 5 0 2 4 0 0 0 0 2\n",
            "2 2 5 4 0 3 0 0 0 0 0 5\n",
            "2 2 3 4 0 3 5 0 0 0 0 5\n",
            "2 2 3 0 0 5 5 0 0 0 0 4\n",
            "2 2 3 0 0 5 5 0 0 0 0 4\n",
            "0 0 0 6 0 0 1 0 0 0 0 0\n",
            "0 0 0 6 0 0 1 0 0 0 0 0\n",
            "2 2 3 4 0 5 0 0 5 0 0 0\n",
            "2 2 3 4 0 5 0 0 5 0 0 0\n",
            "2 3 3 0 0 5 2 0 5 0 0 4\n",
            "2 3 3 0 0\n"
          ],
          "name": "stdout"
        }
      ]
    },
    {
      "cell_type": "code",
      "metadata": {
        "id": "PcMjUqO2NPUB",
        "colab_type": "code",
        "colab": {
          "base_uri": "https://localhost:8080/",
          "height": 1000
        },
        "outputId": "640066c2-2105-4187-8eb0-d025befd46b6"
      },
      "source": [
        "import nltk\n",
        "import pandas as pd\n",
        "\n",
        "\n",
        "df = pd.DataFrame(gpt2.generate(sess, run_name='run1'))\n",
        "nltk.FreqDist([i for i in df])"
      ],
      "execution_count": 15,
      "outputs": [
        {
          "output_type": "stream",
          "text": [
            "0 3 3 0 3 0 4 2 5 0 0 2\n",
            "0 3 3 5 3 0 0 2 4 0 0 2\n",
            "3 3 3 4 2 0 0 5 0 0 5 2\n",
            "3 3 3 4 2 0 0 5 0 0 5 2\n",
            "5 3 3 4 2 0 0 5 0 0 5 2\n",
            "5 3 5 0 2 0 3 0 0 0 4 2\n",
            "1 0 0 0 0 0 0 0 6 0 0 0\n",
            "1 0 0 6 0 0 0 0 0 0 0 0\n",
            "0 3 3 3 4 0 2 5 2 0 0 3\n",
            "0 3 2 5 0 0 2 5 4 0 0 3\n",
            "3 3 2 5 3 0 2 5 0 0 0 4\n",
            "2 3 2 5 3 0 5 0 3 0 0 4\n",
            "5 3 2 0 2 0 4 0 5 0 0 0\n",
            "0 0 0 0 1 0 0 6 0 0 0 0\n",
            "0 0 0 0 0 0 0 6 0 0 0 1\n",
            "5 3 4 0 2 0 0 5 2 0 0 0\n",
            "5 3 4 0 2 0 3 2 5 0 0 3\n",
            "5 3 0 0 2 0 3 4 5 0 0 2\n",
            "5 3 3 0 2 0 4 0 5 0 0 2\n",
            "5 3 2 0 0 0 4 0 5 0 0 2\n",
            "0 0 0 0 0 0 0 6 1 0 0 0\n",
            "0 0 1 0 6 0 0 0 0 0 0 0\n",
            "0 3 0 4 0 0 5 5 2 0 0 2\n",
            "0 3 5 4 0 0 5 2 0 0 0 2\n",
            "0 3 2 0 0 0 5 4 5 0 0 2\n",
            "0 3 5 0 0 0 5 4 2 0 0 2\n",
            "0 3 4 5 0 0 5 0 2 0 0 2\n",
            "0 0 0 1 0 0 6 0 0 0 0 0\n",
            "0 0 6 1 0 0 0 6 0 0 0 6\n",
            "2 3 2 0 5 0 0 5 4 0 0 3\n",
            "4 3 3 3 5 0 2 0 0 0 0 5\n",
            "4 3 3 3 5 0 2 0 2 0 0 5\n",
            "0 3 2 5 4 0 3 0 2 0 0 5\n",
            "0 3 4 5 0 0 2 0 2 0 0 5\n",
            "0 0 0 0 0 0 0 6 1 0 0 0\n",
            "0 0 0 0 0 0 0 6 1 0 0 0\n",
            "4 3 3 2 5 0 2 0 0 0 0 5\n",
            "4 3 3 2 5 0 0 2 0 0 0 5\n",
            "0 3 4 2 5 0 2 5 3 0 0 0\n",
            "0 3 4 2 3 0 2 5 5 0 0 0\n",
            "2 3 0 0 4 0 5 0 5 0 0 2\n",
            "0 0 0 0 0 0 1 0 0 0 0 6\n",
            "6 0 0 0 0 0 1 0 0 0 0 0\n",
            "5 3 2 5 2 0 0 4 3 3 0 3\n",
            "5 3 2 5 0 0 0 4 3 3 0 2\n",
            "5 3 2 5 2 0 3 0 3 3 0 4\n",
            "3 3 2 0 2 0 5 5 3 3 0 4\n",
            "0 3 2 4 3 0 5 5 2 3 0 0\n",
            "0 0 0 1 0 0 6 0 0 0 0 0\n",
            "1 0 0 0 0 0 0 0 6 0 0 0\n",
            "4 3 5 0 3 0 0 5 2 3 0 2\n",
            "0 3 5 5 4 0 0 3 2 3 0 2\n",
            "3 3 5 5 4 0 0 0 2 3 0 2\n",
            "5 3 3 2 0 0 0 4 5 3 0 2\n",
            "5 3 0 2 5 0 0 4 0 3 0 2\n",
            "0 0 1 6 0 0 0 0 0 0 0 0\n",
            "0 0 1 0 0 0 0 6 0 0 0 0\n",
            "2 3 0 5 5 0 0 2 4 3 0 0\n",
            "2 3 0 5 5 0 0 2 4 3 0 0\n",
            "2 3 2 5 5 0 4 0 0 3 0 0\n",
            "2 3 2 0 5 0 4 0 5 3 0 0\n",
            "2 3 2 5 0 0 4 0 5 3 0 0\n",
            "0 0 0 1 6 0 0 0 0 0 0 0\n",
            "0 0 0 0 6 0 0 0 0 0 0 1\n",
            "5 3 5 0 3 0 2 0 2 3 0 4\n",
            "5 3 5 4 0 0 2 0 2 3 0 0\n",
            "5 3 5 4 3 0 2 2 0 0 3 0\n",
            "5 3 5 4 3 0 2 2 3 0 3 3\n",
            "5 3 5 0 3 0 2 0 4 0 3 0\n",
            "0 0 0 0 0 0 0 6 1 0 0 0\n",
            "0 0 0 0 0 0 1 0 0 0 0 6\n",
            "0 3 2 0 3 0 4 0 0 0 3 5\n",
            "0 3 5 0 3 0 0 5 2 0 3 4\n",
            "0 3 5 0 3 0 0 5 2 0 3 4\n",
            "0 3 4 0 3 0 5 5 2 0 3 0\n",
            "0 3 4 0 3 0 5 5 2 0 3 0\n",
            "0 0 0 6 0 0 0 0 0 0 0 1\n",
            "0 0 0 0 0 0 0 0 6 0 0 1\n",
            "0 3 3 5 3 0 4 2 0\n"
          ],
          "name": "stdout"
        },
        {
          "output_type": "execute_result",
          "data": {
            "text/plain": [
              "FreqDist()"
            ]
          },
          "metadata": {
            "tags": []
          },
          "execution_count": 15
        }
      ]
    },
    {
      "cell_type": "code",
      "metadata": {
        "id": "ONRD5j1TWnfo",
        "colab_type": "code",
        "colab": {
          "base_uri": "https://localhost:8080/",
          "height": 1000
        },
        "outputId": "e91f2bc8-d819-40af-f4bc-6ecddb901847"
      },
      "source": [
        "#to clarify\n",
        "gpt2.generate(sess,\n",
        "              length=366,\n",
        "              temperature=1,\n",
        "              #prefix='3',\n",
        "              nsamples=7,\n",
        "              batch_size=7\n",
        "              )"
      ],
      "execution_count": 12,
      "outputs": [
        {
          "output_type": "stream",
          "text": [
            "2 3 2 0 0 4 0 5 0 5 0 0 2\n",
            "0 0 0 0 0 0 0 6 1 0 0 0\n",
            "0 0 1 0 6 0 0 0 0 0 0 0\n",
            "0 3 0 4 0 0 5 5 2 0 0 2\n",
            "0 3 5 4 0 0 5 2 0 0 0 2\n",
            "0 3 2 0 0 0 5 4 5 0 0 2\n",
            "0 3 5 0 0 0 5 4 2 0 0 2\n",
            "0 3 4 5 0 0 5 0 2 0 0 2\n",
            "0 0 0 1 0 0 6 0 0 0 0 0\n",
            "0 0 6 1 0 0 0 6 0 0 0 6\n",
            "2 3 2 0 5 0 0 5 4 0 0 3\n",
            "4 3 3 3 5 0 2 0 0 0 0 5\n",
            "4 3 3 3 5 0 2 0 2 0 0 5\n",
            "0 3 2 5 4 0 3 0 2 0 0 5\n",
            "0 3 4 5 0 0 2 0 2 0 0 5\n",
            "0 0 0 0 0 0 0 6 1 0 0 0\n",
            "0 0 0 0 0 0 0 6 1 0 0 0\n",
            "4 3 3 2 5 0 2 0 0 0 0 5\n",
            "4 3 3 2 5 0 0 2 0 0 0 5\n",
            "0 3 4 2 5 0 2 5 3 0 0 0\n",
            "0 3 4 2 3 0 2 5 5 0 0 0\n",
            "2 3 0 0 4 0 5 0 5 0 0 2\n",
            "0 0 0 0 0 0 1 0 0 0 0 6\n",
            "6 0 0 0 0 0 1 0 0 0 0 0\n",
            "5 3 2 5 2 0 0 4 3 3 0 3\n",
            "5 3 2 5 0 0 0 4 3 3 0 2\n",
            "5 3 2 5 2 0 3 0 3 3 0 4\n",
            "3 3 2 0 2 0 5 5 3 3 0 4\n",
            "0\n",
            "====================\n",
            "2 0 5 5 2 0 0 0 3 0 0 4\n",
            "2 0 3 5 2 0 5 3 4 0 0 0\n",
            "0 0 0 5 0 0 0 6 0 0 0 1\n",
            "5 0 0 0 0 0 0 6 0 0 0 1\n",
            "0 0 0 0 0 0 0 6 0 0 0 1\n",
            "0 3 3 2 0 0 5 5 2 0 0 4\n",
            "5 3 3 2 0 2 0 5 4 0 0 0\n",
            "5 3 3 2 0 2 0 5 4 0 0 3\n",
            "4 5 3 3 0 5 2 0 0 0 0 2\n",
            "1 0 0 0 0 0 0 0 6 0 0 0\n",
            "0 0 0 0 0 0 6 0 0 0 1 0\n",
            "0 0 3 5 0 3 5 2 0 0 0 4\n",
            "2 0 3 4 0 3 5 2 5 0 0 0\n",
            "5 0 3 0 0 3 4 2 5 0 0 0\n",
            "5 0 3 0 0 3 4 2 5 0 0 2\n",
            "5 0 3 0 0 3 0 2 5 0 0 2\n",
            "5 0 3 0 0 3 2 5 0 0 0 4\n",
            "6 0 0 0 0 0 0 0 0 0 1 0\n",
            "0 0 0 0 0 0 6 0 1 0 0 0\n",
            "5 3 3 0 0 3 2 2 4 0 5 0\n",
            "4 3 3 0 0 3 2 2 0 0 5 5\n",
            "4 3 3 0 0 3 2 2 0 0 5 5\n",
            "0 3 3 0 0 2 0 5 2 0 5 4\n",
            "0 3 3 0 0 2 5 5 2 0 0 4\n",
            "6 0 0 0 0 0 0 0 0 0 1 0\n",
            "0 0 0 0 0 6 0 0 6 0 1 0\n",
            "2 3 3 0 0 2 5 0 0 0 0 4\n",
            "2 3 3 0 0 0 5 0 5 0 0 4\n",
            "5 3\n",
            "====================\n",
            "0 3 3 0 3 0 4 2 0 0 5 5\n",
            "0 3 3 5 3 0 0 2 0 0 4 5\n",
            "0 3 3 0 3 0 2 5 0 0 0 4\n",
            "6 0 0 0 0 0 0 0 0 0 1 0\n",
            "0 0 0 0 0 1 0 0 6 0 0 0\n",
            "0 3 2 2 3 0 4 0 0 5 0 5\n",
            "4 3 3 2 3 0 0 0 0 5 0 5\n",
            "4 3 3 0 3 0 2 5 0 0 5 0\n",
            "0 5 3 2 3 0 4 0 0 5 0 2\n",
            "0 0 0 0 6 0 0 0 0 1 0 0\n",
            "0 0 0 0 0 0 0 0 6 0 0 1\n",
            "0 3 3 2 3 0 5 0 0 0 5 4\n",
            "0 3 3 2 3 0 5 0 0 0 5 4\n",
            "0 3 3 0 3 0 5 2 0 0 5 4\n",
            "0 3 3 0 3 0 5 2 0 0 5 4\n",
            "0 5 3 0 0 0 2 0 0 0 5 4\n",
            "0 0 0 0 0 0 6 1 0 0 0 0\n",
            "0 0 0 0 0 0 0 0 6 0 1 0\n",
            "0 3 3 2 3 0 4 0 0 5 0 5\n",
            "0 3 3 2 3 0 0 0 4 0 5 5\n",
            "0 3 3 0 3 0 4 2 0 5 0 5\n",
            "0 5 3 0 0 0 0 2 0 0 4 5\n",
            "0 0 0 0 0 0 0 6 1 0 0 0\n",
            "0 0 0 6 0 0 0 0 0 0 1 0\n",
            "4 3 3 5 3 0 2 5 0 2 0 0\n",
            "4 3 3 5 3 0 2 5 0 2 0 0\n",
            "0 3 3 5 3 0 2 5 0 2 0 4\n",
            "0 3 3 0 3 0 2 5 0 2 0 4\n",
            "6 3\n",
            "====================\n",
            "0 0 0 6 0 0 0 1 0 0 0 0 0\n",
            "5 0 3 0 0 0 2 0 4 0 5 2\n",
            "5 0 3 5 0 0 2 0 0 0 4 2\n",
            "0 0 3 5 0 5 2 0 0 0 4 2\n",
            "4 0 3 5 0 5 3 0 2 0 0 2\n",
            "4 0 3 5 0 5 3 0 2 0 0 2\n",
            "0 0 0 1 0 0 0 0 6 0 0 0\n",
            "0 0 0 0 0 1 0 0 0 0 6 0\n",
            "0 3 3 0 0 4 2 0 2 0 5 5\n",
            "0 5 3 2 0 0 4 0 2 0 0 5\n",
            "5 3 3 2 0 0 4 0 2 0 0 5\n",
            "5 3 3 2 0 2 0 0 5 0 3 4\n",
            "5 3 3 0 0 2 0 0 5 0 2 4\n",
            "1 0 0 0 0 0 0 0 0 0 6 0\n",
            "1 0 0 0 0 0 0 0 0 0 6 0\n",
            "0 3 3 5 0 5 2 0 4 0 0 2\n",
            "0 3 3 5 0 5 2 0 4 0 0 2\n",
            "3 3 3 4 0 5 2 0 0 0 5 2\n",
            "3 3 3 4 0 5 2 0 0 0 5 2\n",
            "2 3 3 4 0 0 2 0 0 0 5 5\n",
            "6 0 0 0 0 0 0 0 0 0 1 0\n",
            "0 0 0 0 0 1 0 0 6 0 0 0\n",
            "0 3 2 2 0 4 5 0 5 0 0 0\n",
            "4 3 3 2 0 0 5 0 5 0 2 0\n",
            "4 3 3 2 0 0 5 0 5 0 2 0\n",
            "0 5 3 2 0 3 5 0 4 0 2 0\n",
            "4 5 3 0 0 2 5 0 0 0 2 0\n",
            "0 0 0 0 0 6 0 0 0 0 0 1\n",
            "0\n",
            "====================\n",
            "0 5 3 3 0 0 2 0 0 0 0 4 5\n",
            "0 0 0 3 0 2 2 0 0 0 5 4\n",
            "0 0 0 3 0 2 2 0 0 5 4\n",
            "2 0 5 3 3 0 0 2 0 0 0 4\n",
            "2 0 3 5 2 0 5 3 4 0 0 0\n",
            "0 0 0 3 2 0 5 2 4 0 0 0\n",
            "2 0 4 0 2 0 5 3 0 0 0 5\n",
            "2 0 4 0 0 0 0 0 0 0 0 5\n",
            "4 0 0 0 0 0 0 0 0 0 0 5\n",
            "4 0 2 5 5 0 2 3 2 0 0 0\n",
            "0 0 5 5 4 0 2 3 2 0 0 0\n",
            "0 0 5 5 4 0 2 3 2 0 0 0\n",
            "5 0 5 0 0 0 4 2 2 0 0 0\n",
            "5 0 5 2 0 0 4 2 0 0 0 0\n",
            "2 0 0 4 0 0 0 0 5 0 0 0\n",
            "0 0 0 4 2 0 0 0 5 0 0 0\n",
            "0 3 2 0 2 0 5 4 5 0 0 0\n",
            "2 3 5 5 2 0 0 4 0 0 0 0\n",
            "2 0 5 5 2 0 0 0 4 0 0 0\n",
            "5 3 0 5 2 0 2 0 4 0 0 0\n",
            "5 3 5 0 2 0 2 4 0 0 0 0\n",
            "0 0 5 0 0 0 2 4 0 0 0 0\n",
            "5 0 0 4 0 0 2 0 0 0 0 0\n",
            "3 3 0 4 2 0 5 0 2 0 0 5\n",
            "0 3 5 0 4 0 2 2 0 0 0 3\n",
            "3 3 3 5 4 0 2 5 2 0 0 3\n",
            "3 3 4 5 0 0 2 5 2 0 0 0\n",
            "2 3 4 5 3 0 0 0 2 0 0 5\n",
            "0 0\n",
            "====================\n",
            "4 5 0 3 0 0 5 2 2 0 0 3\n",
            "0 0 0 0 0 0 0 6 1 0 0 0\n",
            "0 0 0 0 0 0 1 0 0 0 0 6\n",
            "0 3 2 0 3 0 4 2 0 0 5 5\n",
            "0 3 5 0 3 0 0 5 2 0 0 4\n",
            "0 3 5 0 3 0 0 5 2 0 0 4\n",
            "0 3 4 0 3 0 5 5 2 0 0 0\n",
            "0 3 4 0 3 0 5 5 2 0 0 0\n",
            "0 0 0 6 0 0 0 0 0 0 0 1\n",
            "0 0 0 0 0 0 0 0 6 0 0 1\n",
            "0 3 3 5 3 0 4 2 0 0 5 0\n",
            "0 3 3 0 3 0 4 2 5 0 5 0\n",
            "0 3 3 5 3 0 0 2 4 0 5 0\n",
            "0 3 3 5 3 0 0 0 4 0 5 2\n",
            "0 3 3 0 3 0 2 4 0 0 5 5\n",
            "0 0 0 0 0 0 6 1 0 0 0 0\n",
            "0 0 0 0 0 0 0 0 6 0 1 0\n",
            "2 3 3 2 3 0 5 5 0 0 0 4\n",
            "4 3 3 2 3 0 5 5 0 0 0 0\n",
            "4 3 3 0 3 0 5 5 0 0 2 0\n",
            "0 0 0 1 0 0 0 0 0 0 0 6\n",
            "0 0 0 1 0 0 0 0 0 0 0 6\n",
            "0 0 0 0 0 0 0 6 0 0 0 1\n",
            "0 0 0 6 0 0 0 0 0 0 0 1\n",
            "5 3 3 0 3 0 2 5 0 0 4 0\n",
            "0 3 3 5 3 0 2 5 0 0 0 4\n",
            "4 3 3 5 3 0 2 5 0 0 0 0\n",
            "4 3 3 5 3 0 0 0 0 0 2 5\n",
            "0 3\n",
            "====================\n",
            "6 0 0 0 0 0 1 0 0 0 0 0\n",
            "0 3 3 2 0 5 4 0 5 0 0 2\n",
            "0 3 3 2 0 5 0 0 4 0 5 2\n",
            "0 3 3 2 0 5 0 0 4 0 5 2\n",
            "0 3 3 2 0 5 2 0 0 0 5 4\n",
            "0 5 3 0 0 0 2 0 0 0 5 4\n",
            "0 0 0 0 0 1 6 0 0 0 0 0\n",
            "0 0 0 0 0 0 6 0 1 0 0 0\n",
            "0 3 3 2 0 0 5 0 4 0 5 2\n",
            "5 3 3 2 0 2 0 0 0 0 4 5\n",
            "5 3 3 2 0 2 0 0 0 0 4 5\n",
            "4 3 3 0 0 2 5 0 2 0 0 5\n",
            "4 3 3 0 0 0 5 0 2 0 5 0\n",
            "0 0 0 1 0 6 0 0 0 0 0 0\n",
            "0 0 0 1 0 0 0 0 0 0 0 6\n",
            "5 0 3 0 0 4 0 0 5 0 2 2\n",
            "5 0 3 0 0 4 0 0 5 0 2 2\n",
            "5 0 3 2 0 0 0 0 5 0 2 4\n",
            "5 0 3 2 0 5 0 0 0 0 2 4\n",
            "5 0 3 2 0 5 0 0 4 0 2 0\n",
            "0 0 0 6 0 0 0 0 1 0 0 0\n",
            "0 0 0 6 0 0 0 0 1 0 0 0\n",
            "5 0 3 0 0 0 2 0 4 0 5 2\n",
            "5 0 3 5 0 0 2 0 0 0 4 2\n",
            "0 0 3 5 0 5 2 0 0 0 4 2\n",
            "4 0 3 5 0 5 3 0 2 0 0 2\n",
            "4 0 3 5 0 5 3 0 2 0 0 2\n",
            "0 0 0 1 0 0 0 0 6 0 0 0\n",
            "0 0\n",
            "====================\n"
          ],
          "name": "stdout"
        }
      ]
    },
    {
      "cell_type": "code",
      "metadata": {
        "id": "fEOkz43SZl5F",
        "colab_type": "code",
        "colab": {}
      },
      "source": [
        "gen_file = 'gpt2_gentext_{:%Y%m%d_%H%M%S}.txt'.format(datetime.utcnow())\n",
        "\n",
        "gpt2.generate_to_file(sess,\n",
        "                      destination_path=gen_file,\n",
        "                      length=500,\n",
        "                      temperature=1,\n",
        "                      nsamples=100,\n",
        "                      batch_size=20\n",
        "                      )"
      ],
      "execution_count": 0,
      "outputs": []
    },
    {
      "cell_type": "code",
      "metadata": {
        "id": "mD6rH8JkZl8G",
        "colab_type": "code",
        "colab": {}
      },
      "source": [
        "# may have to run twice to get file to download\n",
        "files.download(gen_file)"
      ],
      "execution_count": 0,
      "outputs": []
    },
    {
      "cell_type": "code",
      "metadata": {
        "id": "AG7HIcTFZl_G",
        "colab_type": "code",
        "colab": {
          "base_uri": "https://localhost:8080/",
          "height": 145
        },
        "outputId": "7e28503a-da57-43f7-9d78-3c422590fed8"
      },
      "source": [
        "model_name = \"774M\"\n",
        "\n",
        "gpt2.download_gpt2(model_name=model_name)"
      ],
      "execution_count": 3,
      "outputs": [
        {
          "output_type": "stream",
          "text": [
            "Fetching checkpoint: 1.05Mit [00:00, 241Mit/s]                                                      \n",
            "Fetching encoder.json: 1.05Mit [00:00, 134Mit/s]                                                    \n",
            "Fetching hparams.json: 1.05Mit [00:00, 360Mit/s]                                                    \n",
            "Fetching model.ckpt.data-00000-of-00001: 3.10Git [00:13, 235Mit/s]                                  \n",
            "Fetching model.ckpt.index: 1.05Mit [00:00, 202Mit/s]                                                \n",
            "Fetching model.ckpt.meta: 2.10Mit [00:00, 220Mit/s]                                                 \n",
            "Fetching vocab.bpe: 1.05Mit [00:00, 153Mit/s]                                                       \n"
          ],
          "name": "stderr"
        }
      ]
    },
    {
      "cell_type": "code",
      "metadata": {
        "id": "rBckmFo0ZmB4",
        "colab_type": "code",
        "colab": {
          "base_uri": "https://localhost:8080/",
          "height": 129
        },
        "outputId": "e7eb0ee2-2228-4e62-85e6-07ec7c38ea31"
      },
      "source": [
        "sess = gpt2.start_tf_sess()\n",
        "\n",
        "gpt2.load_gpt2(sess, model_name=model_name)"
      ],
      "execution_count": 4,
      "outputs": [
        {
          "output_type": "stream",
          "text": [
            "Loading pretrained model models/774M/model.ckpt\n",
            "WARNING:tensorflow:From /usr/local/lib/python3.6/dist-packages/tensorflow/python/training/saver.py:1276: checkpoint_exists (from tensorflow.python.training.checkpoint_management) is deprecated and will be removed in a future version.\n",
            "Instructions for updating:\n",
            "Use standard file APIs to check for files with this prefix.\n",
            "INFO:tensorflow:Restoring parameters from models/774M/model.ckpt\n"
          ],
          "name": "stdout"
        }
      ]
    },
    {
      "cell_type": "code",
      "metadata": {
        "id": "4gF4m7baZ46n",
        "colab_type": "code",
        "colab": {
          "base_uri": "https://localhost:8080/",
          "height": 825
        },
        "outputId": "b46d8507-c109-45cf-b1f8-46fdbb02ce79"
      },
      "source": [
        "gpt2.generate(sess,\n",
        "              model_name=model_name,\n",
        "              prefix=\"3\",\n",
        "              length=100,\n",
        "              temperature=0.6,\n",
        "              top_p=0.9,\n",
        "              nsamples=7,\n",
        "              batch_size=7\n",
        "              )"
      ],
      "execution_count": 5,
      "outputs": [
        {
          "output_type": "stream",
          "text": [
            "WARNING:tensorflow:From /usr/local/lib/python3.6/dist-packages/gpt_2_simple/src/sample.py:32: add_dispatch_support.<locals>.wrapper (from tensorflow.python.ops.array_ops) is deprecated and will be removed in a future version.\n",
            "Instructions for updating:\n",
            "Use tf.where in 2.0, which has the same broadcast rule as np.where\n",
            "3.2.1.1.4.2.2.3.4.4.5.6.7.8.9.10.11.12.13.14.15.16.17.18.19.20.21.22.23.24.25.26.27.28.29.30.31.32.33.34.35.36.37.38.39.40.41.42.43.44.45\n",
            "====================\n",
            "3.0) from forestry_1.7.10-3.6.4.9.jar * ForestryAPI|arboriculture (2.3.0) from forestry_1.7.10-3.6.4.9.jar * ForestryAPI|circuits (2.0.0) from forestry_1.7.10-3.6.4.9.jar * ForestryAPI|core (3.2.0) from forestry_1\n",
            "====================\n",
            "3,000.00\n",
            "\n",
            "SOUTH BEND, IN - $7,000.00\n",
            "\n",
            "SOUTH LOS ANGELES, CA - $7,000.00\n",
            "\n",
            "SOUTH RIVERSIDE, CA - $7,000.00\n",
            "\n",
            "SOUTH WASHINGTON, DC - $7,000.00\n",
            "\n",
            "SOUTHWESTERN, OH - $7,000.00\n",
            "\n",
            "SOUTHWESTERN, WI - $\n",
            "====================\n",
            "3.3.1.2.1.1.1.1.1.1.1.1.1.1.1.1.1.1.1.1.1.1.1.1.1.1.1.1.1.1.1.1.1.1.1.1.1.1.1.1.1.1.1.1.1.1.1.1.1.1.1\n",
            "====================\n",
            "3. The Future of the Liberal Movement\n",
            "\n",
            "The new Conservative Party is a conservative party. It is not a party that can win in the next election. It is not a party that can win in the next election. It is a party that can win in the next election. It is a party that can win in the next election. It is a party that can win in the next election. It is a party that can win in the next election. It is a party that can win in\n",
            "====================\n",
            "3.5 million for a single quarter in 2015.\n",
            "\n",
            "\"The company is committed to providing a high quality product and providing the best customer service,\" said Steve Largent, president and chief executive officer of the company. \"The company is committed to working with the Department of Justice and the Attorney General to ensure that this matter is resolved quickly and in a manner that protects the integrity of the company and the American people.\"\n",
            "\n",
            "The company said it would cooperate fully with the investigation.\n",
            "\n",
            "\n",
            "====================\n",
            "3.6 billion in the first quarter of the year, compared with $1.8 billion in the same period last year.\n",
            "\n",
            "The company said it expects to be profitable by the end of the year.\n",
            "\n",
            "\"We are pleased with the progress we have made in the first quarter of fiscal year 2017 and look forward to delivering solid results in the second quarter,\" said CEO Eric Schmidt.\n",
            "\n",
            "The company said it is targeting to have more than 10,000 employees by the end of the\n",
            "====================\n"
          ],
          "name": "stdout"
        }
      ]
    },
    {
      "cell_type": "code",
      "metadata": {
        "id": "lfQP58d-Z5Cr",
        "colab_type": "code",
        "colab": {}
      },
      "source": [
        ""
      ],
      "execution_count": 0,
      "outputs": []
    },
    {
      "cell_type": "code",
      "metadata": {
        "id": "LLN6L5FIZ5GW",
        "colab_type": "code",
        "colab": {}
      },
      "source": [
        ""
      ],
      "execution_count": 0,
      "outputs": []
    },
    {
      "cell_type": "code",
      "metadata": {
        "id": "UQ3gCOI0ZmE3",
        "colab_type": "code",
        "colab": {}
      },
      "source": [
        ""
      ],
      "execution_count": 0,
      "outputs": []
    }
  ]
}